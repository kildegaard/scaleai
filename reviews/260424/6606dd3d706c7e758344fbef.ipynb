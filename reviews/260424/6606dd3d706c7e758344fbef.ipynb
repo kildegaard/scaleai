{
 "cells": [
  {
   "cell_type": "markdown",
   "metadata": {},
   "source": [
    "## Order the student column by descending final exam for each period. Then join each student from period 2 to those in period 5 based on class rank. Find the average of their final exam score"
   ]
  },
  {
   "cell_type": "code",
   "execution_count": 5,
   "metadata": {},
   "outputs": [
    {
     "name": "stdout",
     "output_type": "stream",
     "text": [
      "Period 2 - First 5 rows:\n",
      "| Student   | Homework   | Midterm   | Final Exam   | Rank   |\n",
      "|:----------|:-----------|:----------|:-------------|:-------|\n",
      "| F         | 75         | 60        | 96           | 1      |\n",
      "| N         | 79         | 62        | 91           | 2      |\n",
      "| B         | 81         | 82        | 88           | 3      |\n",
      "| S         | 90         | 83        | 82           | 4      |\n",
      "| P         | 88         | 95        | 80           | 5      |\n",
      "\n",
      "Period 4 - First 5 rows:\n",
      "| Student   | Homework   | Midterm   | Final Exam   |\n",
      "|:----------|:-----------|:----------|:-------------|\n",
      "| A         | 56         | 84        | 67           |\n",
      "| B         | 82         | 72        | 74           |\n",
      "| C         | 64         | 57        | 58           |\n",
      "| D         | 87         | 73        | 57           |\n",
      "| E         | 69         | 83        | 94           |\n",
      "\n",
      "Period 5 - First 5 rows:\n",
      "| Student   | Homework   | Midterm   | Final Exam   |\n",
      "|:----------|:-----------|:----------|:-------------|\n",
      "| A         | 66         | 56        | 68           |\n",
      "| B         | 62         | 66        | 92           |\n",
      "| C         | 65         | 61        | 60           |\n",
      "| D         | 83         | 78        | 82           |\n",
      "| E         | 76         | 72        | 58           |\n",
      "\n",
      "Period 2 - Column Information:\n",
      "<class 'pandas.core.frame.DataFrame'>\n",
      "RangeIndex: 23 entries, 0 to 22\n",
      "Data columns (total 5 columns):\n",
      " #   Column      Non-Null Count  Dtype \n",
      "---  ------      --------------  ----- \n",
      " 0   Student     23 non-null     object\n",
      " 1   Homework    23 non-null     int64 \n",
      " 2   Midterm     23 non-null     int64 \n",
      " 3   Final Exam  23 non-null     int64 \n",
      " 4   Rank        23 non-null     int64 \n",
      "dtypes: int64(4), object(1)\n",
      "memory usage: 1.0+ KB\n",
      "None\n",
      "\n",
      "Period 4 - Column Information:\n",
      "<class 'pandas.core.frame.DataFrame'>\n",
      "RangeIndex: 23 entries, 0 to 22\n",
      "Data columns (total 4 columns):\n",
      " #   Column      Non-Null Count  Dtype \n",
      "---  ------      --------------  ----- \n",
      " 0   Student     23 non-null     object\n",
      " 1   Homework    23 non-null     int64 \n",
      " 2   Midterm     23 non-null     int64 \n",
      " 3   Final Exam  23 non-null     int64 \n",
      "dtypes: int64(3), object(1)\n",
      "memory usage: 868.0+ bytes\n",
      "None\n",
      "\n",
      "Period 5 - Column Information:\n",
      "<class 'pandas.core.frame.DataFrame'>\n",
      "RangeIndex: 23 entries, 0 to 22\n",
      "Data columns (total 4 columns):\n",
      " #   Column      Non-Null Count  Dtype \n",
      "---  ------      --------------  ----- \n",
      " 0   Student     23 non-null     object\n",
      " 1   Homework    23 non-null     int64 \n",
      " 2   Midterm     23 non-null     int64 \n",
      " 3   Final Exam  23 non-null     int64 \n",
      "dtypes: int64(3), object(1)\n",
      "memory usage: 868.0+ bytes\n",
      "None\n"
     ]
    }
   ],
   "source": [
    "import pandas as pd\n",
    "\n",
    "pd.set_option(\"display.max_rows\", None)\n",
    "pd.set_option(\"display.max_columns\", None)\n",
    "\n",
    "# Read the CSV files into DataFrames\n",
    "df_period2 = pd.read_csv(\"grades.xlsx - Period 2.csv\")\n",
    "df_period4 = pd.read_csv(\"grades.xlsx - Period 4.csv\")\n",
    "df_period5 = pd.read_csv(\"grades.xlsx - Period 5.csv\")\n",
    "\n",
    "# Display the first 5 rows of each DataFrame\n",
    "print(\"Period 2 - First 5 rows:\")\n",
    "print(df_period2.head().to_markdown(index=False, numalign=\"left\", stralign=\"left\"))\n",
    "\n",
    "print(\"\\nPeriod 4 - First 5 rows:\")\n",
    "print(df_period4.head().to_markdown(index=False, numalign=\"left\", stralign=\"left\"))\n",
    "\n",
    "print(\"\\nPeriod 5 - First 5 rows:\")\n",
    "print(df_period5.head().to_markdown(index=False, numalign=\"left\", stralign=\"left\"))\n",
    "\n",
    "# Print the column information for each DataFrame\n",
    "print(\"\\nPeriod 2 - Column Information:\")\n",
    "print(df_period2.info())\n",
    "\n",
    "print(\"\\nPeriod 4 - Column Information:\")\n",
    "print(df_period4.info())\n",
    "\n",
    "print(\"\\nPeriod 5 - Column Information:\")\n",
    "print(df_period5.info())"
   ]
  },
  {
   "cell_type": "code",
   "execution_count": 6,
   "metadata": {},
   "outputs": [
    {
     "name": "stdout",
     "output_type": "stream",
     "text": [
      "| Student_2   | Homework_2   | Midterm_2   | Final Exam_2   | Rank   | Student_5   | Homework_5   | Midterm_5   | Final Exam_5   | Average Final Exam   |\n",
      "|:------------|:-------------|:------------|:---------------|:-------|:------------|:-------------|:------------|:---------------|:---------------------|\n",
      "| F           | 75           | 60          | 96             | 1      | U           | 57           | 95          | 97             | 96.5                 |\n",
      "| N           | 79           | 62          | 91             | 2      | S           | 90           | 65          | 94             | 92.5                 |\n",
      "| B           | 81           | 82          | 88             | 3      | W           | 66           | 86          | 92             | 90                   |\n"
     ]
    }
   ],
   "source": [
    "# Sort by 'Final Exam' and assign rank\n",
    "for df in [df_period2, df_period4, df_period5]:\n",
    "    df.sort_values(by=\"Final Exam\", ascending=False, inplace=True)\n",
    "    df[\"Rank\"] = range(1, len(df) + 1)\n",
    "\n",
    "# Merge df_period2 and df_period5 on 'Rank'\n",
    "merged_df = pd.merge(df_period2, df_period5, on=\"Rank\", suffixes=(\"_2\", \"_5\"))\n",
    "\n",
    "# Calculate mean of 'Final Exam' scores\n",
    "merged_df[\"Average Final Exam\"] = merged_df[[\"Final Exam_2\", \"Final Exam_5\"]].mean(\n",
    "    axis=1\n",
    ")\n",
    "\n",
    "# Display results (first 3 rows or all if less than 10 rows)\n",
    "if len(merged_df) > 10:\n",
    "    print(merged_df.head(3).to_markdown(index=False, numalign=\"left\", stralign=\"left\"))\n",
    "else:\n",
    "    print(merged_df.to_markdown(index=False, numalign=\"left\", stralign=\"left\"))"
   ]
  },
  {
   "cell_type": "markdown",
   "metadata": {},
   "source": [
    "## using the new joined table, concatate the midterm and final exam columns into a new column called \\test scores"
   ]
  },
  {
   "cell_type": "code",
   "execution_count": 7,
   "metadata": {},
   "outputs": [
    {
     "name": "stdout",
     "output_type": "stream",
     "text": [
      "| Student_2   |   Homework_2 |   Midterm_2 |   Final Exam_2 |   Rank | Student_5   |   Homework_5 |   Midterm_5 |   Final Exam_5 |   Average Final Exam | Test Scores_2   | Test Scores_5   |\n",
      "|:------------|-------------:|------------:|---------------:|-------:|:------------|-------------:|------------:|---------------:|---------------------:|:----------------|:----------------|\n",
      "| F           |           75 |          60 |             96 |      1 | U           |           57 |          95 |             97 |                 96.5 | 60-96           | 95-97           |\n",
      "| N           |           79 |          62 |             91 |      2 | S           |           90 |          65 |             94 |                 92.5 | 62-91           | 65-94           |\n",
      "| B           |           81 |          82 |             88 |      3 | W           |           66 |          86 |             92 |                 90   | 82-88           | 86-92           |\n"
     ]
    }
   ],
   "source": [
    "# Concatenate midterm and final exam scores for each period\n",
    "merged_df[\"Test Scores_2\"] = (\n",
    "    merged_df[\"Midterm_2\"].astype(str) + \"-\" + merged_df[\"Final Exam_2\"].astype(str)\n",
    ")\n",
    "merged_df[\"Test Scores_5\"] = (\n",
    "    merged_df[\"Midterm_5\"].astype(str) + \"-\" + merged_df[\"Final Exam_5\"].astype(str)\n",
    ")\n",
    "\n",
    "# Display results (first 3 rows or all if less than 10 rows)\n",
    "if len(merged_df) > 10:\n",
    "    print(merged_df.head(3).to_markdown(index=False))\n",
    "else:\n",
    "    print(merged_df.to_markdown(index=False))"
   ]
  },
  {
   "cell_type": "code",
   "execution_count": null,
   "metadata": {},
   "outputs": [],
   "source": []
  }
 ],
 "metadata": {
  "kernelspec": {
   "display_name": "Python 3",
   "language": "python",
   "name": "python3"
  },
  "language_info": {
   "codemirror_mode": {
    "name": "ipython",
    "version": 3
   },
   "file_extension": ".py",
   "mimetype": "text/x-python",
   "name": "python",
   "nbconvert_exporter": "python",
   "pygments_lexer": "ipython3",
   "version": "3.12.3"
  }
 },
 "nbformat": 4,
 "nbformat_minor": 2
}
