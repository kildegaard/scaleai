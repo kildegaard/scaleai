{
 "cells": [
  {
   "cell_type": "code",
   "execution_count": 1,
   "metadata": {},
   "outputs": [],
   "source": [
    "# Codigo 1\n",
    "\n",
    "\n",
    "def word_pattern(pattern, words):\n",
    "    if len(pattern) != len(words):\n",
    "        return False\n",
    "\n",
    "    p2w, w2p = {}, {}\n",
    "\n",
    "    for p, w in zip(pattern, words):\n",
    "        if p not in p2w and w not in w2p:\n",
    "            p2w[p] = w\n",
    "            w2p[w] = p\n",
    "        elif p2w.get(p) != w or w2p.get(w) != p:\n",
    "            return False\n",
    "\n",
    "    return True"
   ]
  },
  {
   "cell_type": "code",
   "execution_count": 2,
   "metadata": {},
   "outputs": [
    {
     "name": "stdout",
     "output_type": "stream",
     "text": [
      "True\n"
     ]
    }
   ],
   "source": [
    "pattern = \"abab\"\n",
    "words = [\"red\", \"blue\", \"red\", \"blue\"]\n",
    "print(word_pattern(pattern, words))  # True"
   ]
  },
  {
   "cell_type": "code",
   "execution_count": 3,
   "metadata": {},
   "outputs": [
    {
     "name": "stdout",
     "output_type": "stream",
     "text": [
      "False\n"
     ]
    }
   ],
   "source": [
    "pattern = \"aaab\"\n",
    "words = [\"red\", \"red\", \"red\", \"red\"]\n",
    "print(word_pattern(pattern, words))  # False"
   ]
  },
  {
   "cell_type": "code",
   "execution_count": null,
   "metadata": {},
   "outputs": [],
   "source": []
  }
 ],
 "metadata": {
  "kernelspec": {
   "display_name": "Python 3",
   "language": "python",
   "name": "python3"
  },
  "language_info": {
   "codemirror_mode": {
    "name": "ipython",
    "version": 3
   },
   "file_extension": ".py",
   "mimetype": "text/x-python",
   "name": "python",
   "nbconvert_exporter": "python",
   "pygments_lexer": "ipython3",
   "version": "3.11.9"
  }
 },
 "nbformat": 4,
 "nbformat_minor": 2
}
