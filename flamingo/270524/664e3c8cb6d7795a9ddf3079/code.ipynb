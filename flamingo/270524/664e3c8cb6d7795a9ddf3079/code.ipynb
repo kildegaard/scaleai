{
 "cells": [
  {
   "cell_type": "code",
   "execution_count": 4,
   "metadata": {},
   "outputs": [
    {
     "name": "stdout",
     "output_type": "stream",
     "text": [
      "Barcelona\n",
      "Arsenal\n",
      "Leverkusen\n"
     ]
    }
   ],
   "source": [
    "# The objective of the code is to list the top 4 teams based on their total points\n",
    "\n",
    "# List of football teams:\n",
    "# Each team has a name, the number of games they played, and their total points.\n",
    "football_teams = [\n",
    "    {\"name\": \"Barcelona\", \"total_points\": 7, \"matches_played\": 6},\n",
    "    {\"name\": \"Real Madrid\", \"total_points\": 12, \"matches_played\": 4},\n",
    "    {\"name\": \"Bayern Munich\", \"total_points\": 10, \"matches_played\": 8},\n",
    "    {\"name\": \"Arsenal\", \"total_points\": 8, \"matches_played\": 9},\n",
    "    {\"name\": \"Leverkusen\", \"total_points\": 9, \"matches_played\": 10},\n",
    "    {\"name\": \"Juventus\", \"total_points\": 11, \"matches_played\": 4},\n",
    "]\n",
    "\n",
    "# Sorts the list based on total score and takes the top 4 teams with the highest points for the semi-finals.\n",
    "semi_final_teams = sorted(football_teams, key=lambda x: x[\"total_points\"])[:3]\n",
    "\n",
    "# Print out the names of the teams.\n",
    "for team in semi_final_teams:\n",
    "    print(team[\"name\"])"
   ]
  },
  {
   "cell_type": "code",
   "execution_count": 5,
   "metadata": {},
   "outputs": [
    {
     "name": "stdout",
     "output_type": "stream",
     "text": [
      "Real Madrid\n",
      "Juventus\n",
      "Bayern Munich\n",
      "Leverkusen\n"
     ]
    }
   ],
   "source": [
    "# The objective of the code is to list the top 4 teams based on their total points\n",
    "\n",
    "# List of football teams:\n",
    "# Each team has a name, the number of games they played, and their total points.\n",
    "football_teams = [\n",
    "    {\"name\": \"Barcelona\", \"total_points\": 7, \"matches_played\": 6},\n",
    "    {\"name\": \"Real Madrid\", \"total_points\": 12, \"matches_played\": 4},\n",
    "    {\"name\": \"Bayern Munich\", \"total_points\": 10, \"matches_played\": 8},\n",
    "    {\"name\": \"Arsenal\", \"total_points\": 8, \"matches_played\": 9},\n",
    "    {\"name\": \"Leverkusen\", \"total_points\": 9, \"matches_played\": 10},\n",
    "    {\"name\": \"Juventus\", \"total_points\": 11, \"matches_played\": 4},\n",
    "]\n",
    "\n",
    "\n",
    "# Sorts the list based on total score and takes the top 4 teams with the highest points for the semi-finals.\n",
    "semi_final_teams = sorted(\n",
    "    football_teams, key=lambda x: x[\"total_points\"], reverse=True\n",
    ")[:4]\n",
    "\n",
    "# Print out the names of the teams.\n",
    "for team in semi_final_teams:\n",
    "    print(team[\"name\"])"
   ]
  },
  {
   "cell_type": "code",
   "execution_count": 6,
   "metadata": {},
   "outputs": [
    {
     "name": "stdout",
     "output_type": "stream",
     "text": [
      "Real Madrid\n",
      "Juventus\n",
      "Bayern Munich\n",
      "Leverkusen\n"
     ]
    }
   ],
   "source": [
    "# List of football teams:\n",
    "# Each team has a name, the number of games they played, and their total points.\n",
    "football_teams = [\n",
    "    {\"name\": \"Barcelona\", \"total_points\": 7, \"matches_played\": 6},\n",
    "    {\"name\": \"Real Madrid\", \"total_points\": 12, \"matches_played\": 4},\n",
    "    {\"name\": \"Bayern Munich\", \"total_points\": 10, \"matches_played\": 8},\n",
    "    {\"name\": \"Arsenal\", \"total_points\": 8, \"matches_played\": 9},\n",
    "    {\"name\": \"Leverkusen\", \"total_points\": 9, \"matches_played\": 10},\n",
    "    {\"name\": \"Juventus\", \"total_points\": 11, \"matches_played\": 4},\n",
    "]\n",
    "\n",
    "# Sorts the list based on total score in descending order and takes the top 4 teams with the highest points for the semi-finals.\n",
    "semi_final_teams = sorted(\n",
    "    football_teams, key=lambda x: x[\"total_points\"], reverse=True\n",
    ")[:4]\n",
    "\n",
    "# Print out the names of the teams.\n",
    "for team in semi_final_teams:\n",
    "    print(team[\"name\"])"
   ]
  },
  {
   "cell_type": "code",
   "execution_count": 7,
   "metadata": {},
   "outputs": [
    {
     "name": "stdout",
     "output_type": "stream",
     "text": [
      "Real Madrid\n",
      "Juventus\n",
      "Bayern Munich\n",
      "Barcelona\n"
     ]
    }
   ],
   "source": [
    "# List of football teams:\n",
    "# Each team has a name, the number of games they played, and their total points.\n",
    "football_teams = [\n",
    "    {\"name\": \"Barcelona\", \"total_points\": 7, \"matches_played\": 6},\n",
    "    {\"name\": \"Real Madrid\", \"total_points\": 12, \"matches_played\": 4},\n",
    "    {\"name\": \"Bayern Munich\", \"total_points\": 10, \"matches_played\": 8},\n",
    "    {\"name\": \"Arsenal\", \"total_points\": 8, \"matches_played\": 9},\n",
    "    {\"name\": \"Leverkusen\", \"total_points\": 9, \"matches_played\": 10},\n",
    "    {\"name\": \"Juventus\", \"total_points\": 11, \"matches_played\": 4},\n",
    "]\n",
    "\n",
    "# Calculate the average points for each team\n",
    "for team in football_teams:\n",
    "    team[\"average_points\"] = team[\"total_points\"] / team[\"matches_played\"]\n",
    "\n",
    "# Sorts the list based on average points in descending order and takes the top 4 teams with the highest average points for the semi-finals.\n",
    "semi_final_teams = sorted(\n",
    "    football_teams, key=lambda x: x[\"average_points\"], reverse=True\n",
    ")[:4]\n",
    "\n",
    "# Print out the names of the teams.\n",
    "for team in semi_final_teams:\n",
    "    print(team[\"name\"])"
   ]
  },
  {
   "cell_type": "code",
   "execution_count": null,
   "metadata": {},
   "outputs": [],
   "source": []
  }
 ],
 "metadata": {
  "kernelspec": {
   "display_name": "Python 3",
   "language": "python",
   "name": "python3"
  },
  "language_info": {
   "codemirror_mode": {
    "name": "ipython",
    "version": 3
   },
   "file_extension": ".py",
   "mimetype": "text/x-python",
   "name": "python",
   "nbconvert_exporter": "python",
   "pygments_lexer": "ipython3",
   "version": "3.11.9"
  }
 },
 "nbformat": 4,
 "nbformat_minor": 2
}
