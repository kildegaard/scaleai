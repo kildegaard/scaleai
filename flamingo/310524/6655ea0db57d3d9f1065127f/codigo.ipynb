{
 "cells": [
  {
   "cell_type": "code",
   "execution_count": 1,
   "metadata": {},
   "outputs": [],
   "source": [
    "import pandas as pd\n",
    "from sklearn.model_selection import train_test_split\n",
    "from sklearn.linear_model import LinearRegression\n",
    "from sklearn.metrics import mean_squared_error"
   ]
  },
  {
   "cell_type": "code",
   "execution_count": 2,
   "metadata": {},
   "outputs": [],
   "source": [
    "def load_data(file_path):\n",
    "    data = pd.read_csv(file_path)\n",
    "    return data\n",
    "\n",
    "\n",
    "def preprocess_data(data):\n",
    "    data = data.dropna()\n",
    "    X = data.drop(\"price\", axis=1)\n",
    "    y = data[\"price\"]\n",
    "    return X, y\n",
    "\n",
    "\n",
    "def train_model(X, y):\n",
    "    X_train, X_test, y_train, y_test = train_test_split(\n",
    "        X, y, test_size=0.2, random_state=42\n",
    "    )\n",
    "    model = LinearRegression()\n",
    "    model.fit(X_train, y_train)\n",
    "    y_pred = model.predict(X_test)\n",
    "    mse = mean_squared_error(y_test, y_pred)\n",
    "    return model, mse"
   ]
  },
  {
   "cell_type": "code",
   "execution_count": 3,
   "metadata": {},
   "outputs": [],
   "source": [
    "file_path = \"housing_data.csv\"\n",
    "data = load_data(file_path)"
   ]
  },
  {
   "cell_type": "code",
   "execution_count": 12,
   "metadata": {},
   "outputs": [
    {
     "name": "stdout",
     "output_type": "stream",
     "text": [
      "Model trained with Mean Squared Error: 0.0\n"
     ]
    }
   ],
   "source": [
    "X, y = preprocess_data(data)\n",
    "model, mse = train_model(X, y)\n",
    "print(f\"Model trained with Mean Squared Error: {mse}\")"
   ]
  },
  {
   "cell_type": "code",
   "execution_count": 13,
   "metadata": {},
   "outputs": [
    {
     "name": "stdout",
     "output_type": "stream",
     "text": [
      "Model trained with Mean Squared Error: 108.60079266971417\n"
     ]
    }
   ],
   "source": [
    "import numpy as np\n",
    "\n",
    "# Adding some noise to the target variable\n",
    "np.random.seed(42)\n",
    "data[\"price\"] += np.random.normal(0, 10, size=data.shape[0])\n",
    "\n",
    "# Saving the noisy data to a CSV file\n",
    "data.to_csv(\"housing_data.csv\", index=False)\n",
    "\n",
    "# Reloading the data to rerun the model\n",
    "data = load_data(\"housing_data.csv\")\n",
    "X, y = preprocess_data(data)\n",
    "model, mse = train_model(X, y)\n",
    "print(f\"Model trained with Mean Squared Error: {mse}\")"
   ]
  },
  {
   "cell_type": "code",
   "execution_count": null,
   "metadata": {},
   "outputs": [],
   "source": []
  }
 ],
 "metadata": {
  "kernelspec": {
   "display_name": "Python 3",
   "language": "python",
   "name": "python3"
  },
  "language_info": {
   "codemirror_mode": {
    "name": "ipython",
    "version": 3
   },
   "file_extension": ".py",
   "mimetype": "text/x-python",
   "name": "python",
   "nbconvert_exporter": "python",
   "pygments_lexer": "ipython3",
   "version": "3.11.9"
  }
 },
 "nbformat": 4,
 "nbformat_minor": 2
}
