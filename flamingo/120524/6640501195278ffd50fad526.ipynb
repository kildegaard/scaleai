{
 "cells": [
  {
   "cell_type": "markdown",
   "metadata": {},
   "source": [
    "Hello Attempter. There are some important issues in your task that do not allow me to approve it.\n",
    "\n",
    "Your prompts are too vague. They lack a well-described context, complexity, constraints, and a well-defined objective. Also, they're not unique, as their topics can be easily related in a quick Google search.\n",
    "\n",
    "Your justifications are also a bit vague. They need to be more explicit and more explicative when supporting your arguments for one response or the other.\n",
    "\n",
    "Please, consider adapting your prompts to the Guidelines when redoing this task.\n",
    "\n",
    "Here's some handy documentation that I strongly suggest you read thoroughly:\n",
    "\n",
    "* Flamingo Crash Course:\n",
    "https://docs.google.com/document/d/1djY7NcldjU21bRYCX6hoFHrrQSPQ5C_o0d_XDJnNUmY/edit#heading=h.3ibr2go7c4fs\n",
    "\n",
    "* Dimension Priorities:\n",
    "https://docs.google.com/document/d/1XtlJbL3WuvMBqKvqSmRHVCujy_fvDrluiKOzR5I0qO4/edit"
   ]
  }
 ],
 "metadata": {
  "language_info": {
   "name": "python"
  }
 },
 "nbformat": 4,
 "nbformat_minor": 2
}
