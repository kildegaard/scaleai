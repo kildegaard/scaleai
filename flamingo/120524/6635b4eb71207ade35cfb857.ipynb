{
 "cells": [
  {
   "cell_type": "markdown",
   "metadata": {},
   "source": [
    "## Feedback\n",
    "\n",
    "Hello, dear Tasker. Thanks a lot for your commitment to the actual project.\n",
    "I reviewed your work and wanted to share my thoughts.\n",
    "\n",
    "According to actual Guidelines, your prompt is a bit too vague and does not expose the model to a complex situation where it would develop its maximum efforts to generate good responses. The prompt must be innovative and creative, which are subjective things to consider, but there are also some factual or objective items to think about:\n",
    "  - Context: giving some environmental information will buff your prompt as the model has information to be more specific and clever.\n",
    "  - Clear objectives: well-explained goals for the code or problem to achieve.\n",
    "  - Use cases: propose uses for the code to be useful within specific situations\n",
    "  - Constraints: adding extra spice to the model is a good way to increase its quality. Think about specific limitations to take into account or restrictions that would make the problem non-trivial.\n",
    "  - Uniqueness: as stated previously, your problem must provide some fresh ideas to the prompt pool. It's expected for you to write problems that are not so easily found on the internet.\n",
    "  - Complexity: Once again, as stated before, the problem must not be trivial. It would be best if you aimed for issues that require some effort for the model, that provide a clear yet not easy way for solving them.\n",
    "\n",
    "\n",
    "Another topic to engage in is justifications: in the documentation, there's plenty of information to learn some workflow to tackle this. I'll add them at the end for you to later consults.\n",
    "Your justification also lacks development in it. Some things can be done to improve it further. For example, it is important to show evidence in the responses to support your response selection. You must also claim where's the deviation (in case there is), or analyze why there is not.\n",
    "\n",
    "Another thing that is of extreme importance is to test your code factually. Not only test it, but show some evidence that you did, and share the environment set for this. It's important because if the reviewer can not rut it, or if it's too complicated and time-consuming to set the correct environment, then your task is most probably going to be sent back to you. Please consider this!\n",
    "\n",
    "With all this, I truly believe you can develop perfect stellar prompts that would make the model thrive to create astonishing responses.\n",
    "\n",
    "Thanks a lot for reading till the end! I wish you the best on this, I know you have what is needed for the project!\n",
    "\n",
    "* Documentation:\n",
    "\n",
    "* Flamingo Crash Course:\n",
    "https://docs.google.com/document/d/1djY7NcldjU21bRYCX6hoFHrrQSPQ5C_o0d_XDJnNUmY/edit#heading=h.3ibr2go7c4fs\n",
    "\n",
    "* Dimension Priorities:\n",
    "https://docs.google.com/document/d/1XtlJbL3WuvMBqKvqSmRHVCujy_fvDrluiKOzR5I0qO4/edit"
   ]
  }
 ],
 "metadata": {
  "language_info": {
   "name": "python"
  }
 },
 "nbformat": 4,
 "nbformat_minor": 2
}
