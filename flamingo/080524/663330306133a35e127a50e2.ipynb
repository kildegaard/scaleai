{
 "cells": [
  {
   "cell_type": "markdown",
   "metadata": {},
   "source": [
    "Prompt 1:\n",
    "\n",
    "Which are the different ways of implementing DAGs in Airflow, using python? Please explain the main differences and their applications"
   ]
  },
  {
   "cell_type": "markdown",
   "metadata": {},
   "source": [
    "Prompt 2:\n",
    "\n",
    "How can I define dependencies between the tasks?"
   ]
  },
  {
   "cell_type": "markdown",
   "metadata": {},
   "source": [
    "Prompt 3:\n",
    "\n",
    "Ok, how can I execute python scripts using airflow?"
   ]
  },
  {
   "cell_type": "markdown",
   "metadata": {},
   "source": [
    "## Feedback"
   ]
  },
  {
   "cell_type": "markdown",
   "metadata": {},
   "source": [
    "Hello, dear Tasker. Thanks for reading this review, and thanks a lot for your efforts in this project.\n",
    "\n",
    "I regret to tell you that your prompts don't comply with the official Guidelines.\n",
    "\n",
    "- The prompt must be 100% original:\n",
    "    The first prompt's subject is something very well documented on the internet. You should aim to create complex, innovative, and stellar prompts that would test the model limits.\n",
    "    Follow-up prompts are very basic in their complexity. You can increase their quality by suggesting use cases, providing specific (real or not) environments to use, or adding creative constraints to the code.\n",
    "\n",
    "- Justifications: \n",
    "    Your justifications are pretty good. You mention what's good and what's not from each response. Something to increase their quality would be to explicitly mention where's the deviation, or where it is not. \n",
    "    Also, consider revising the documentation on Dimension Priorities when writing your justifications, as it is very important to be considered.\n",
    "\n",
    "\n",
    "Please, take these things into consideration when revising your work and revamping your prompts, to achieve an excellent quality. \n",
    "\n",
    "Here's some documentation that may come in handy!\n",
    "\n",
    "https://docs.google.com/document/d/1djY7NcldjU21bRYCX6hoFHrrQSPQ5C_o0d_XDJnNUmY/edit#heading=h.3ibr2go7c4fs\n",
    "\n",
    "https://docs.google.com/document/d/1XtlJbL3WuvMBqKvqSmRHVCujy_fvDrluiKOzR5I0qO4/edit"
   ]
  }
 ],
 "metadata": {
  "language_info": {
   "name": "python"
  }
 },
 "nbformat": 4,
 "nbformat_minor": 2
}
