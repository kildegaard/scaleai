{
 "cells": [
  {
   "cell_type": "markdown",
   "metadata": {},
   "source": [
    "## Feedback"
   ]
  },
  {
   "cell_type": "markdown",
   "metadata": {},
   "source": [
    "## Feedback\n",
    "\n",
    "Hello, dear Tasker. Thanks a lot for your commitment to the actual project.\n",
    "I reviewed your work and wanted to share my thoughts.\n",
    "\n",
    "According to actual Guidelines, your prompt is a bit too vague and does not expose the model to a complex situation where it would develop its maximum efforts to generate good responses. In fact, it almost looks as completely extracted from the internet. This kind of content is expected for a basic initial pandas course, you must aim much higher than that. \n",
    "\n",
    "I regret to inform you that after analyzing your prompt with three different AI checkers, I arrived at the conclusion that there's a high probability of it being written (or help to) by an AI:\n",
    "\n",
    "- https://gptzero.me/: 100% AI-Generated\n",
    "- https://www.scribbr.com/ai-detector/: 100% AI-Generated\n",
    "- https://quillbot.com/ai-content-detector: 100% AI-Generated\n",
    "\n",
    "As per Guidelines, you must no use, nor be help by, any AI-based webapp in the creation of your prompts. Because of this, you will need to redo this task taking this into consideration.\n",
    "Please, also consider the following guidelines that may help you in this task:\n",
    "\n",
    "The prompt must be innovative and creative, which are subjective things to consider, but there are also some factual or objective items to think about:\n",
    "  - Context: giving some environmental information will buff your prompt as the model has information to be more specific and clever\n",
    "  - Clear objectives: well-explained goals for the code or problem to achieve.\n",
    "  - Use cases: propose uses for the code to be useful within specific situations\n",
    "  - Constraints: adding extra spice to the model is a good way to increase its quality. Think about specific limitations to take into account or restrictions that would make the problem non-trivial.\n",
    "  - Uniqueness: as stated previously, your problem must provide some fresh ideas to the prompt pool. It's expected for you to write problems that are not so easily found on the internet.\n",
    "  - Complexity: Once again, as stated before, the problem must not be trivial. It would be best if you aimed for issues that require some effort for the model, that provide a clear yet not easy way for solving them.\n",
    "\n",
    "Another topic to engage in is justifications: in the documentation, there's plenty of information to learn some workflow to tackle this. I'll add them at the end for you to later consults.\n",
    "Your justification seems appropriate in many aspects, so hooray! Some things can be done to improve it further. For example, it is important to show evidence in the responses to support your response selection. \n",
    "\n",
    "Last but not least, it is of extreme importance is to factually test your code. Not only test it, but show some evidence that you did, and share the environment set for this. It's important because if the reviewer can not rut it, or if it's too complicated and time-consuming to set the correct environment, then your task is most probably going to be sent back to you. Please consider this!\n",
    "\n",
    "With all this, I truly believe you can develop perfect stellar prompts that would make the model thrive to create astonishing responses.\n",
    "\n",
    "Thanks a lot for reading till the end! I wish you the best on this, I know you have what is needed for the project!\n",
    "\n",
    "* Documentation:\n",
    "\n",
    "* Flamingo Crash Course:\n",
    "https://docs.google.com/document/d/1djY7NcldjU21bRYCX6hoFHrrQSPQ5C_o0d_XDJnNUmY/edit#heading=h.3ibr2go7c4fs\n",
    "\n",
    "* Dimension Priorities:\n",
    "https://docs.google.com/document/d/1XtlJbL3WuvMBqKvqSmRHVCujy_fvDrluiKOzR5I0qO4/edit"
   ]
  },
  {
   "cell_type": "code",
   "execution_count": 12,
   "metadata": {},
   "outputs": [
    {
     "name": "stdout",
     "output_type": "stream",
     "text": [
      "Direction of the magnetic field B: (0, 0, 1)\n",
      "Flux is increasing\n",
      "Direction of the induced magnetic force B: (0, 0, -1)\n",
      "Direction of the induced current: (0, -1, 0)\n",
      "Direction of the induced emf: (0, -1, 0)\n"
     ]
    }
   ],
   "source": [
    "import numpy as np\n",
    "\n",
    "\n",
    "class Vector:\n",
    "    def __init__(self, x, y, z):\n",
    "        self.x = x\n",
    "        self.y = y\n",
    "        self.z = z\n",
    "\n",
    "    def __str__(self):\n",
    "        return f\"({self.x}, {self.y}, {self.z})\"\n",
    "\n",
    "    def __add__(self, other):\n",
    "        return Vector(self.x + other.x, self.y + other.y, self.z + other.z)\n",
    "\n",
    "    def __sub__(self, other):\n",
    "        return Vector(self.x - other.x, self.y - other.y, self.z - other.z)\n",
    "\n",
    "    def __neg__(self):\n",
    "        return Vector(-self.x, -self.y, -self.z)\n",
    "\n",
    "    def cross(self, other):\n",
    "        return Vector(\n",
    "            self.y * other.z - self.z * other.y,\n",
    "            self.z * other.x - self.x * other.z,\n",
    "            self.x * other.y - self.y * other.x,\n",
    "        )\n",
    "\n",
    "\n",
    "def lenz_law(B, d_flux, dl):\n",
    "    if d_flux > 0:\n",
    "        induced_B = -B\n",
    "    else:\n",
    "        induced_B = B\n",
    "\n",
    "    induced_current = induced_B.cross(dl)\n",
    "\n",
    "    induced_emf = induced_current\n",
    "\n",
    "    return induced_B, induced_current, induced_emf\n",
    "\n",
    "\n",
    "B = Vector(0, 0, 1)\n",
    "dl = Vector(1, 0, 0)\n",
    "d_flux = 1\n",
    "\n",
    "print(f\"Direction of the magnetic field B: {B}\")\n",
    "\n",
    "if d_flux > 0:\n",
    "    print(\"Flux is increasing\")\n",
    "else:\n",
    "    print(\"Flux is decreasing\")\n",
    "\n",
    "\n",
    "induced_B, induced_current, induced_emf = lenz_law(B, d_flux, dl)\n",
    "print(f\"Direction of the induced magnetic force B: {induced_B}\")\n",
    "print(f\"Direction of the induced current: {induced_current}\")\n",
    "print(f\"Direction of the induced emf: {induced_emf}\")"
   ]
  },
  {
   "cell_type": "code",
   "execution_count": 5,
   "metadata": {},
   "outputs": [
    {
     "ename": "TypeError",
     "evalue": "bad operand type for unary -: 'Vector'",
     "output_type": "error",
     "traceback": [
      "\u001b[1;31m---------------------------------------------------------------------------\u001b[0m",
      "\u001b[1;31mTypeError\u001b[0m                                 Traceback (most recent call last)",
      "Cell \u001b[1;32mIn[5], line 1\u001b[0m\n\u001b[1;32m----> 1\u001b[0m \u001b[38;5;28mprint\u001b[39m(\u001b[38;5;241;43m-\u001b[39;49m\u001b[43mB\u001b[49m)\n",
      "\u001b[1;31mTypeError\u001b[0m: bad operand type for unary -: 'Vector'"
     ]
    }
   ],
   "source": [
    "print(-B)"
   ]
  }
 ],
 "metadata": {
  "kernelspec": {
   "display_name": "Python 3",
   "language": "python",
   "name": "python3"
  },
  "language_info": {
   "codemirror_mode": {
    "name": "ipython",
    "version": 3
   },
   "file_extension": ".py",
   "mimetype": "text/x-python",
   "name": "python",
   "nbconvert_exporter": "python",
   "pygments_lexer": "ipython3",
   "version": "3.12.3"
  }
 },
 "nbformat": 4,
 "nbformat_minor": 2
}
