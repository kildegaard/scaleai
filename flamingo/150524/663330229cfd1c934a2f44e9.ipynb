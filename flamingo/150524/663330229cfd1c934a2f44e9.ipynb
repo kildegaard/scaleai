{
 "cells": [
  {
   "cell_type": "markdown",
   "metadata": {},
   "source": [
    "Hello there. I've reviewed your attempt and have some things to discuss.\n",
    "I will split my feedback in two: first I will explain to you what issues I found concerning the prompt, and then about the justification.\n",
    "\n",
    "# Prompt writing\n",
    "\n",
    "According to our updated Guidelines, there are several important factors to consider Prompt as a \"Stellar Prompt\":\n",
    "- Context: Your context developed in your prompt lacks more details.\n",
    "- Well-defined Objective: The objective is somewhat related to the context. In your case, there is a clear stated objective, despite being a bit short in context.\n",
    "- Constraints: No boundary conditions were found in your prompt. This is a crucial item, as it raises the complexity of the task. Consider adding constraints to your following prompts.\n",
    "- Uniqueness: This seems to be an interesting topic to develop if it had more constraints in it. As it is, it seems to be an exercise from the first years of college, where it should be similar to a Semi-Senior situation.\n",
    "- Complexity: Because it does not have any true constraints in this task, its complexity is not good enough. It would be interesting to mix many different technical areas throughout the prompt in order to attain the desired complexity level.\n",
    "- Testable: The code is easily testable, so that's very good! Something to consider is that the Model never suggested test cases in order to correctly demonstrate it's funcionality. That's something to analyze when writing your prompts: ask the model for examples about what you are asking in order to quickly visualize its effectiveness (or if it inccurs into an error).\n",
    "- Useful IRL: I believe your prompt's idea is useful in real life and that has much potential to develop once it's fully functional (according to Guidelines).\n",
    "- No AI-Text: I don't consider your text being created using an AI assistant.\n",
    "- Misc: Overall, I consider your task good but with some issues that need to be fixed before approving the task itself.\n",
    "\n",
    "\n",
    "# Justification Issues\n",
    "\n",
    "In order for your justifications to be good, they must have the following syntax:\n",
    "    [1] Comparison between responses + [2] Along which dimension? + [3] Epic quality justification + [4] Evidence for taking the aforementioned decision.\n",
    "Also, you must explain and demonstrate HOW did you test the code [5], and how (briefly describe the environment). Extra points if you can define how to fix issues (if any).\n",
    "If you follow these instructions, you will almost always be rated 4 or 5.\n",
    "\n",
    "In your specific situation, I would say that you develop some level of justification, but provided no evidence for that. Also, you did not mention the dimension (or dimensions) along the deviation extends, nor expresed a good comparison between both responses.\n",
    "\n",
    "With all this being said, please redo the task and follow the instructions to improve the attempt's quality to the project's required level.\n",
    "I will share with you some documentation that may come in handy to better assess this.\n",
    "\n",
    "Thanks a lot for reading till the end! I wish you the best on this, I know you have what is needed for the project!\n",
    "\n",
    "* Documentation:\n",
    "\n",
    "* Flamingo Crash Course:\n",
    "https://docs.google.com/document/d/1djY7NcldjU21bRYCX6hoFHrrQSPQ5C_o0d_XDJnNUmY/edit#heading=h.3ibr2go7c4fs\n",
    "\n",
    "* Dimension Priorities:\n",
    "https://docs.google.com/document/d/1XtlJbL3WuvMBqKvqSmRHVCujy_fvDrluiKOzR5I0qO4/edit"
   ]
  }
 ],
 "metadata": {
  "language_info": {
   "name": "python"
  }
 },
 "nbformat": 4,
 "nbformat_minor": 2
}
