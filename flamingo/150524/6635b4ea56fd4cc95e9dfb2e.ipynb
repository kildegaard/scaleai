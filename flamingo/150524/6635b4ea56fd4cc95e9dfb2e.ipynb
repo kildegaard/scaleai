{
 "cells": [
  {
   "cell_type": "markdown",
   "metadata": {},
   "source": [
    "## Prompt\n",
    "\n",
    "Given a string g of numbers 0 to 9 only, and an array arr of strings also consisting of 0 to 9 only, write a function in Python to return an array of integers where the nth element represents the minimum length of a substring that contains a permutation of the nth string in arr. If a substring cannot be formed, return -1 for that index."
   ]
  },
  {
   "cell_type": "markdown",
   "metadata": {},
   "source": [
    "Hello there. I've reviewed your attempt and have some things to discuss.\n",
    "I will split my feedback in two: first I will explain to you what issues I found concerning the prompt, and then about the justification.\n",
    "\n",
    "# First Prompt\n",
    "\n",
    "## Prompt writing\n",
    "According to our updated Guidelines, there are several important factors to consider Prompt as a \"Stellar Prompt\":\n",
    "- Context: There is not a clear context developed through the prompt.\n",
    "- Well-defined Objective: The objective is tricky to understand, I believe there could be an easier way to write the same steps in a clearer way.\n",
    "- Uniqueness: This seems to be a typical academic exercise for learning certain algorithmic structures.\n",
    "- Complexity: I consider its complexity to be good enough, besides only proposing generating \n",
    "- Testable: OK\n",
    "- Useful IRL: This is questionable. All academic things are somehow very useful in real life, but within this Project's restrictions, this kind of full Academic prompt is not encouraged.\n",
    "- No AI-Text: OK\n",
    "- Misc: Would have declared the language that the model should use.\n",
    "\n",
    "## Justification Issues\n",
    "In order for your justifications to be good, they must have the following syntax:\n",
    "    [1] Comparison between responses + [2] Along which dimension? + [3] Epic quality justification + [4] Evidence for taking the aforementioned decision.\n",
    "Also, you must explain and demonstrate HOW did you test the code [5], and how (briefly describe the environment). Extra points if you can define how to fix issues (if any).\n",
    "If you follow these instructions, you will almost always be rated 4 or 5.\n",
    "\n",
    "In your specific situation, you did very well with [1] and more or less well with [2] but struggled with the rest. You must explain with more detail why there is not a deviation in this case, and show evidence for that. Also, you must prove to have tested the code and how.\n",
    "\n",
    "# Second prompt\n",
    "\n",
    "The same criteria goes for the second prompt. It lacks all that structure mentioned before for being a Stellar Prompt. You should raise its quality with all the mentioned details and also with the documentation.\n",
    "\n",
    "###########\n",
    "\n",
    "With all this being said, please redo the task and follow the instructions to improve the attempt's quality to the project's required level.\n",
    "I will share with you some documentation that may come in handy to better assess this.\n",
    "\n",
    "Thanks a lot for reading till the end! I wish you the best on this, I know you have what is needed for the project!\n",
    "\n",
    "* Documentation:\n",
    "\n",
    "* Flamingo Crash Course:\n",
    "https://docs.google.com/document/d/1djY7NcldjU21bRYCX6hoFHrrQSPQ5C_o0d_XDJnNUmY/edit#heading=h.3ibr2go7c4fs\n",
    "\n",
    "* Dimension Priorities:\n",
    "https://docs.google.com/document/d/1XtlJbL3WuvMBqKvqSmRHVCujy_fvDrluiKOzR5I0qO4/edit"
   ]
  }
 ],
 "metadata": {
  "language_info": {
   "name": "python"
  }
 },
 "nbformat": 4,
 "nbformat_minor": 2
}
