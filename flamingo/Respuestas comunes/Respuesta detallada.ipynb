{
 "cells": [
  {
   "cell_type": "markdown",
   "metadata": {},
   "source": [
    "Hello there. I've reviewed your attempt and have some things to discuss.\n",
    "I will split my feedback in two: first I will explain to you what issues I found concerning the prompt, and then about the justification.\n",
    "\n",
    "# Prompt writing\n",
    "\n",
    "According to our updated Guidelines, there are several important factors to consider Prompt as a \"Stellar Prompt\":\n",
    "- Context: \n",
    "- Well-defined Objective: \n",
    "- Uniqueness: \n",
    "- Complexity: \n",
    "- Testable: \n",
    "- Useful IRL: \n",
    "- No AI-Text: \n",
    "- Misc: \n",
    "\n",
    "\n",
    "# Justification Issues\n",
    "\n",
    "In order for your justifications to be good, they must have the following syntax:\n",
    "    [1] Comparison between responses + [2] Along which dimension? + [3] Epic quality justification + [4] Evidence for taking the aforementioned decision.\n",
    "Also, you must explain and demonstrate HOW did you test the code [5], and how (briefly describe the environment). Extra points if you can define how to fix issues (if any).\n",
    "If you follow these instructions, you will almost always be rated 4 or 5.\n",
    "\n",
    "In your specific situation, \n",
    "\n",
    "With all this being said, please redo the task and follow the instructions to improve the attempt's quality to the project's required level.\n",
    "I will share with you some documentation that may come in handy to better assess this.\n",
    "\n",
    "Thanks a lot for reading till the end! I wish you the best on this, I know you have what is needed for the project!\n",
    "\n",
    "* Documentation:\n",
    "\n",
    "* Flamingo Crash Course:\n",
    "https://docs.google.com/document/d/1djY7NcldjU21bRYCX6hoFHrrQSPQ5C_o0d_XDJnNUmY/edit#heading=h.3ibr2go7c4fs\n",
    "\n",
    "* Dimension Priorities:\n",
    "https://docs.google.com/document/d/1XtlJbL3WuvMBqKvqSmRHVCujy_fvDrluiKOzR5I0qO4/edit"
   ]
  }
 ],
 "metadata": {
  "language_info": {
   "name": "python"
  }
 },
 "nbformat": 4,
 "nbformat_minor": 2
}
