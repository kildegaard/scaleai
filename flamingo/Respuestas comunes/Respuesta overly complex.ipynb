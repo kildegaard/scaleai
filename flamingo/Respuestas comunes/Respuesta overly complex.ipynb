{
 "cells": [
  {
   "cell_type": "markdown",
   "metadata": {},
   "source": [
    "Hello, dear Tasker. Thanks a lot for your commitment to the actual project.\n",
    "I reviewed your work and wanted to share my thoughts.\n",
    "\n",
    "According to actual guidelines, your prompts have several issues to deal with and your justifications lack some compulsory elements for them to be excellent ones.\n",
    "\n",
    "Your prompts need to have a certain structure considering the following:\n",
    "- Context: giving some environmental information will buff your prompt as the model has information to be more specific and clever.\n",
    "- Clear objectives: well-explained goals for the code or problem to achieve.\n",
    "- Use cases: propose uses for the code to be useful within specific situations\n",
    "- Constraints: adding extra spice to the model is a good way to increase its quality. Think about specific limitations to take into account or restrictions that would make the problem non-trivial.\n",
    "- Uniqueness: as stated previously, your problem must provide some fresh ideas to the prompt pool. It's expected for you to write problems that are not so easily found on the internet.\n",
    "- Complexity: Once again, as stated before, the problem must not be trivial. It would be best if you aimed for issues that require some effort for the model, that provide a clear yet not easy way for solving them.\n",
    "- Testability: it's very important that your prompts are capable of being tested without the need for an overly complex setup.\n",
    "\n",
    "In your case, despite being very interesting with good context and complexity, they are not feasibility-testable. That's a major issue because it's one of the main requirements: we can't approve what was not tested. For future prompts, I suggest doing prompts that are testable or at least provide a certain context of files, or guidelines, to explain how and where did you test them.\n",
    "\n",
    "Another topic to engage in is justifications: in the documentation, there's plenty of information to learn some workflow to tackle this. I'll add them at the end for you to later consults.\n",
    "Your justification also lacks development in it. Some things can be done to improve it further. For example, it is important to show evidence in the responses to support your response selection. You must also claim where's the deviation (in case there is), or analyze why there is not.\n",
    "\n",
    "Another thing that is of extreme importance is to test your code factually (as stated before). Not only test it, but show some evidence that you did, and share the environment set for this. It's important because if the reviewer can not rut it, or if it's too complicated and time-consuming to set the correct environment, then your task is most probably going to be sent back to you. Please consider this!\n",
    "\n",
    "Keynote for future justifications: I will show you a systematic way of building excellent-quality justifications.\n",
    "\n",
    "Comparison between responses + Along which dimension? + Epic quality justification + Evidence for taking the aforementioned decision.\n",
    "Also, you must explain and demonstrate HOW did you test the code, and how (briefly describe the environment). Extra points if you can define how to fix issues (if any).\n",
    "If you follow these instructions, you will almost always be rated 4 or 5.\n",
    "\n",
    "\n",
    "With all this, I truly believe you can develop perfect stellar prompts that would make the model thrive to create astonishing responses.\n",
    "\n",
    "Thanks a lot for reading till the end! I wish you the best on this, I know you have what is needed for the project!\n",
    "\n",
    "* Documentation:\n",
    "\n",
    "* Flamingo Crash Course:\n",
    "https://docs.google.com/document/d/1djY7NcldjU21bRYCX6hoFHrrQSPQ5C_o0d_XDJnNUmY/edit#heading=h.3ibr2go7c4fs\n",
    "\n",
    "* Dimension Priorities:\n",
    "https://docs.google.com/document/d/1XtlJbL3WuvMBqKvqSmRHVCujy_fvDrluiKOzR5I0qO4/edit"
   ]
  }
 ],
 "metadata": {
  "language_info": {
   "name": "python"
  }
 },
 "nbformat": 4,
 "nbformat_minor": 2
}
