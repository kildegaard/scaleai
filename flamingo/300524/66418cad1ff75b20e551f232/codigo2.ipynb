{
 "cells": [
  {
   "cell_type": "code",
   "execution_count": 1,
   "metadata": {},
   "outputs": [
    {
     "ename": "AttributeError",
     "evalue": "module 'phonenumbers.phonenumberutil' has no attribute 'UnknownRegionError'",
     "output_type": "error",
     "traceback": [
      "\u001b[1;31m---------------------------------------------------------------------------\u001b[0m",
      "\u001b[1;31mAttributeError\u001b[0m                            Traceback (most recent call last)",
      "Cell \u001b[1;32mIn[1], line 8\u001b[0m, in \u001b[0;36mget_phone_code\u001b[1;34m(country_name)\u001b[0m\n\u001b[0;32m      5\u001b[0m \u001b[38;5;28;01mtry\u001b[39;00m:\n\u001b[0;32m      6\u001b[0m     \u001b[38;5;66;03m# Get the phone code for the country\u001b[39;00m\n\u001b[0;32m      7\u001b[0m     phone_code \u001b[38;5;241m=\u001b[39m phonenumbers\u001b[38;5;241m.\u001b[39mcountry_code_for_region(\n\u001b[1;32m----> 8\u001b[0m         \u001b[43mphonenumbers\u001b[49m\u001b[38;5;241;43m.\u001b[39;49m\u001b[43mgeocoder\u001b[49m\u001b[38;5;241m.\u001b[39mcountry_name_to_iso_code(country_name)\n\u001b[0;32m      9\u001b[0m     )\n\u001b[0;32m     11\u001b[0m     \u001b[38;5;66;03m# Return the phone code\u001b[39;00m\n",
      "\u001b[1;31mAttributeError\u001b[0m: module 'phonenumbers' has no attribute 'geocoder'",
      "\nDuring handling of the above exception, another exception occurred:\n",
      "\u001b[1;31mAttributeError\u001b[0m                            Traceback (most recent call last)",
      "Cell \u001b[1;32mIn[1], line 19\u001b[0m\n\u001b[0;32m     15\u001b[0m         \u001b[38;5;28;01mraise\u001b[39;00m \u001b[38;5;167;01mValueError\u001b[39;00m(\u001b[38;5;124mf\u001b[39m\u001b[38;5;124m\"\u001b[39m\u001b[38;5;124mInvalid country name: \u001b[39m\u001b[38;5;132;01m{\u001b[39;00mcountry_name\u001b[38;5;132;01m}\u001b[39;00m\u001b[38;5;124m\"\u001b[39m)\n\u001b[0;32m     18\u001b[0m \u001b[38;5;66;03m# Test the function\u001b[39;00m\n\u001b[1;32m---> 19\u001b[0m \u001b[38;5;28mprint\u001b[39m(\u001b[43mget_phone_code\u001b[49m\u001b[43m(\u001b[49m\u001b[38;5;124;43m\"\u001b[39;49m\u001b[38;5;124;43mIndia\u001b[39;49m\u001b[38;5;124;43m\"\u001b[39;49m\u001b[43m)\u001b[49m)  \u001b[38;5;66;03m# Output: 91\u001b[39;00m\n",
      "Cell \u001b[1;32mIn[1], line 13\u001b[0m, in \u001b[0;36mget_phone_code\u001b[1;34m(country_name)\u001b[0m\n\u001b[0;32m     11\u001b[0m     \u001b[38;5;66;03m# Return the phone code\u001b[39;00m\n\u001b[0;32m     12\u001b[0m     \u001b[38;5;28;01mreturn\u001b[39;00m phone_code\n\u001b[1;32m---> 13\u001b[0m \u001b[38;5;28;01mexcept\u001b[39;00m \u001b[43mphonenumbers\u001b[49m\u001b[38;5;241;43m.\u001b[39;49m\u001b[43mphonenumberutil\u001b[49m\u001b[38;5;241;43m.\u001b[39;49m\u001b[43mUnknownRegionError\u001b[49m:\n\u001b[0;32m     14\u001b[0m     \u001b[38;5;66;03m# Throw an error if the country name is not recognized\u001b[39;00m\n\u001b[0;32m     15\u001b[0m     \u001b[38;5;28;01mraise\u001b[39;00m \u001b[38;5;167;01mValueError\u001b[39;00m(\u001b[38;5;124mf\u001b[39m\u001b[38;5;124m\"\u001b[39m\u001b[38;5;124mInvalid country name: \u001b[39m\u001b[38;5;132;01m{\u001b[39;00mcountry_name\u001b[38;5;132;01m}\u001b[39;00m\u001b[38;5;124m\"\u001b[39m)\n",
      "\u001b[1;31mAttributeError\u001b[0m: module 'phonenumbers.phonenumberutil' has no attribute 'UnknownRegionError'"
     ]
    }
   ],
   "source": [
    "import phonenumbers\n",
    "\n",
    "\n",
    "def get_phone_code(country_name):\n",
    "    try:\n",
    "        # Get the phone code for the country\n",
    "        phone_code = phonenumbers.country_code_for_region(\n",
    "            phonenumbers.geocoder.country_name_to_iso_code(country_name)\n",
    "        )\n",
    "\n",
    "        # Return the phone code\n",
    "        return phone_code\n",
    "    except phonenumbers.phonenumberutil.UnknownRegionError:\n",
    "        # Throw an error if the country name is not recognized\n",
    "        raise ValueError(f\"Invalid country name: {country_name}\")\n",
    "\n",
    "\n",
    "# Test the function\n",
    "print(get_phone_code(\"India\"))  # Output: 91"
   ]
  },
  {
   "cell_type": "code",
   "execution_count": 3,
   "metadata": {},
   "outputs": [
    {
     "name": "stdout",
     "output_type": "stream",
     "text": [
      "54\n"
     ]
    }
   ],
   "source": [
    "import phonenumbers\n",
    "import pycountry\n",
    "\n",
    "\n",
    "def get_phone_code(country_name):\n",
    "    try:\n",
    "        # Get the ISO 3166-1 alpha-2 code for the country\n",
    "        country = pycountry.countries.lookup(country_name)\n",
    "        iso_code = country.alpha_2\n",
    "\n",
    "        # Get the phone code for the ISO code\n",
    "        phone_code = phonenumbers.country_code_for_region(iso_code)\n",
    "\n",
    "        # Return the phone code\n",
    "        return phone_code\n",
    "    except LookupError:\n",
    "        # Throw an error if the country name is not recognized\n",
    "        raise ValueError(f\"Invalid country name: {country_name}\")\n",
    "\n",
    "\n",
    "# Test the function\n",
    "print(get_phone_code(\"Argentina\"))  # Output: 91"
   ]
  },
  {
   "cell_type": "code",
   "execution_count": 7,
   "metadata": {},
   "outputs": [
    {
     "name": "stdout",
     "output_type": "stream",
     "text": [
      "54\n"
     ]
    }
   ],
   "source": [
    "import phonenumbers\n",
    "\n",
    "\n",
    "def get_phone_code(country_name):\n",
    "    # Create a dictionary mapping country names to their ISO 3166-1 alpha-2 codes\n",
    "    country_codes = {\n",
    "        \"Afghanistan\": \"AF\",\n",
    "        \"India\": \"IN\",\n",
    "        \"United States\": \"US\",\n",
    "        \"Argentina\": \"AR\",\n",
    "        # Add more countries as needed\n",
    "    }\n",
    "\n",
    "    try:\n",
    "        # Get the ISO 3166-1 alpha-2 code for the given country\n",
    "        iso_code = country_codes[country_name]\n",
    "\n",
    "        # Get the phone number code for the country\n",
    "        phone_code = phonenumbers.country_code_for_region(iso_code)\n",
    "\n",
    "        return phone_code\n",
    "    except KeyError:\n",
    "        raise ValueError(f\"Invalid country: {country_name}\")\n",
    "    except phonenumbers.phonenumberutil.UnknownRegionError:\n",
    "        raise ValueError(f\"Unknown region: {country_name}\")\n",
    "\n",
    "\n",
    "# Example usage:\n",
    "print(get_phone_code(\"Argentina\"))  # Output: 91"
   ]
  },
  {
   "cell_type": "code",
   "execution_count": null,
   "metadata": {},
   "outputs": [],
   "source": []
  }
 ],
 "metadata": {
  "kernelspec": {
   "display_name": "Python 3",
   "language": "python",
   "name": "python3"
  },
  "language_info": {
   "codemirror_mode": {
    "name": "ipython",
    "version": 3
   },
   "file_extension": ".py",
   "mimetype": "text/x-python",
   "name": "python",
   "nbconvert_exporter": "python",
   "pygments_lexer": "ipython3",
   "version": "3.11.9"
  }
 },
 "nbformat": 4,
 "nbformat_minor": 2
}
