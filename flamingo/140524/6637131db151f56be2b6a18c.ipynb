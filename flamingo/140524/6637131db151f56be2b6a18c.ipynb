{
 "cells": [
  {
   "cell_type": "markdown",
   "metadata": {},
   "source": [
    "## Prompt"
   ]
  },
  {
   "cell_type": "markdown",
   "metadata": {},
   "source": [
    "I'm building a system that generates a portfolio automatically. Write a Python code that:\n",
    " - Creates a method that takes a PDF file as an input. This PDF file contains the user's information to retrieve them which are:\n",
    "\t  - Full name.\n",
    "\t  - Major.\n",
    "\t  - Place of residence.\n",
    "\t  - The objective.\n",
    "\t  - The education.\n",
    "\t  - His experiences (he should mention the company's name, the position, and the duration).\n",
    "\t  - The certificates.\n",
    "\t  - The contacts such as phone number and email.\n",
    "- After filling the required information, create a portfolio as a website with the information provided. I want you to make it in a good style to be acceptable.\n",
    "- After creating the portfolio, I want you to send an SMS to the user containing a link of his portfolio."
   ]
  },
  {
   "cell_type": "markdown",
   "metadata": {},
   "source": [
    "## Justification"
   ]
  },
  {
   "cell_type": "markdown",
   "metadata": {},
   "source": [
    "Response 1 is better than response 2 because of reasoning quality. Both responses implemented the functionalities and handled the requirements. The claim that response 2 didn't implement the information extraction from PDF is incorrect, since it didn't fetch all information required in `extrace_information_from_pdf` correctly (see lines 9 to 38) where full name, major, education, place of residence, objective, and contact are not fetched correctly. Response 1 fetched all information required (see lines 13 to 58)."
   ]
  },
  {
   "cell_type": "markdown",
   "metadata": {},
   "source": [
    "## Feedback"
   ]
  },
  {
   "cell_type": "markdown",
   "metadata": {},
   "source": [
    "Hello there. I've reviewed your attempt and have some things to discuss.\n",
    "I will split my feedback in two: first I will explain to you what issues I found concerning the prompt, and then about the justification.\n",
    "\n",
    "# Prompt writing\n",
    "\n",
    "According to our updated Guidelines, there are several important factors to consider Prompt as a \"Stellar Prompt\":\n",
    "- Context: Your prompt provides some context, but its boundaries are not well defined. You could improve this by telling the Model why you want to build this app, and how you pretend to distribute it.\n",
    "- Well-defined Objective: The objective is somewhat related to the context. In your case, the objective is not well described. Objectives must be clear for the Model to understand and follow certain guidelines.\n",
    "- Constraints: No boundary conditions were found in your prompt. This is a crucial item, as it raises the complexity of the task. Consider adding constraints to your following prompts.\n",
    "- Uniqueness: This seems to be an interesting topic to develop. Despite not being as unique as it should be, the concatenation of different things makes it good enough in my opinion.\n",
    "- Complexity: Because there are no constraints, the complexity of this task is not at the required level for it to be approved. You should aim for a Semi-Senior level of content, with many constraints.\n",
    "- Testable: Here is one of the main issues. You suggest creating a web page and then sending an SMS. For this activity to happen, you need to create accounts, log in, and even have permissions and configurations. That's not a straightforward task to do, nor the project's objective. Consider rerouting this kind of situation via free and open options available through the internet.\n",
    "- Useful IRL: I believe your prompt would be very useful in real life, so this is a good thing.\n",
    "- No AI-Text: I don't consider your text being created using an AI assistant.\n",
    "- Misc: Overall, I consider your task good but with some issues that need to be fixed before approving the task itself.\n",
    "\n",
    "Another thing to consider is that there are many vague concepts throughout the prompt. You want to create a web page but did not tell the Model any details on how to do this. You ask the Model to do it \"in a good style to be acceptable\". This is a good place to refine your response. Be more specific and expressive. Give details and explain the model of how to do this. It does not have to be too extensive, but it needs to be done.\n",
    "\n",
    "# Justification Issues\n",
    "\n",
    "In order for your justifications to be good, they must have the following syntax:\n",
    "    [1] Comparison between responses + [2] Along which dimension? + [3] Epic quality justification + [4] Evidence for taking the aforementioned decision.\n",
    "Also, you must explain and demonstrate HOW did you test the code [5], and how (briefly describe the environment). Extra points if you can define how to fix issues (if any).\n",
    "If you follow these instructions, you will almost always be rated 4 or 5.\n",
    "\n",
    "In your specific situation, you did very well with [1, 2], more or less with [3, 4] and did not complete [5]. Also, the grammar and how you redacted the sentences can be improved to increase readability and clarify certain issues. In fact, considering the difference between your prompt and your justification's writing style, many would come to believe that you actually used AI-Assistance.\n",
    "\n",
    "With all this being said, please redo the task and follow the instructions to improve the attempt's quality to the project's required level.\n",
    "I will share with you some documentation that may come in handy to better assess this.\n",
    "\n",
    "Thanks a lot for reading till the end! I wish you the best on this, I know you have what is needed for the project!\n",
    "\n",
    "* Documentation:\n",
    "\n",
    "* Flamingo Crash Course:\n",
    "https://docs.google.com/document/d/1djY7NcldjU21bRYCX6hoFHrrQSPQ5C_o0d_XDJnNUmY/edit#heading=h.3ibr2go7c4fs\n",
    "\n",
    "* Dimension Priorities:\n",
    "https://docs.google.com/document/d/1XtlJbL3WuvMBqKvqSmRHVCujy_fvDrluiKOzR5I0qO4/edit"
   ]
  }
 ],
 "metadata": {
  "kernelspec": {
   "display_name": "Python 3",
   "language": "python",
   "name": "python3"
  },
  "language_info": {
   "codemirror_mode": {
    "name": "ipython",
    "version": 3
   },
   "file_extension": ".py",
   "mimetype": "text/x-python",
   "name": "python",
   "nbconvert_exporter": "python",
   "pygments_lexer": "ipython3",
   "version": "3.12.3"
  }
 },
 "nbformat": 4,
 "nbformat_minor": 2
}
