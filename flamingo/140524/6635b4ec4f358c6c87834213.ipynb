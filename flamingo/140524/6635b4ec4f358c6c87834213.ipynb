{
 "cells": [
  {
   "cell_type": "markdown",
   "metadata": {},
   "source": [
    "# Prompt"
   ]
  },
  {
   "cell_type": "markdown",
   "metadata": {},
   "source": [
    "I'm building a system that predicts survival of patients with heart failure depending on many factors listed in a dataset. I'll provide you with a zip file that contains the dataset, I want you to unzip the file and extract the data from the dataset that has the attributes: age in years, diabetes, smoking, gender, and high blood pressure. After extracting the data, I want you to predict if the patient will survive or not. If the probability of survival is low, send the patient a list of pieces of advice that increase the probability of survival via email. The email should contain a picture of a QR code and once the patient has scanned it, his result and the advice will be shown. Implement this code using Python language."
   ]
  },
  {
   "cell_type": "markdown",
   "metadata": {},
   "source": [
    "# Justification"
   ]
  },
  {
   "cell_type": "markdown",
   "metadata": {},
   "source": [
    "Both responses meet all requirements and handled all functionalities, but response 2 is slightly better than response 1. Response 2 is more organized, since it uses a built-in library for image which is `PIL`."
   ]
  },
  {
   "cell_type": "markdown",
   "metadata": {},
   "source": [
    "# Feedback"
   ]
  },
  {
   "cell_type": "markdown",
   "metadata": {},
   "source": [
    "Hello there. I've reviewed your attempt and have some things to discuss.\n",
    "I will split my feedback in two: first I will explain to you what issues I found concerning the prompt, and then about the justification.\n",
    "\n",
    "# Prompt writing\n",
    "\n",
    "According to our updated Guidelines, there are several important factors to consider Prompt as a \"Stellar Prompt\":\n",
    "- Context: Your context developed in your prompt lacks more details.\n",
    "- Well-defined Objective: The objective is somewhat related to the context. In your case, the objective is not well described. Objectives must be clear for the Model to understand and follow certain guidelines.\n",
    "- Constraints: No boundary conditions were found in your prompt. This is a crucial item, as it raises the complexity of the task. Consider adding constraints to your following prompts.\n",
    "- Uniqueness: This seems to be an interesting topic to develop. Despite not being as unique as it should be, the concatenation of different things makes it good enough in my opinion.\n",
    "- Complexity: Despite not having any true constraints in this task, its complexity is good enough. I would say that's more than OK because you mix many different technical areas throughout the prompt.\n",
    "- Testable: Here is one of the main issues. Along the prompt, it's expected for an email generation for which some issues would arise trying to test that. I'll go more deeply in the Justification section, but from what you wrote later on, it appears that you had not tested the code, which is most important.\n",
    "- Useful IRL: I believe your prompt's idea is somehow strange. As it's expressed, I doubt its true application in real life. With a few modifications, it can be really good!\n",
    "- No AI-Text: I don't consider your text being created using an AI assistant.\n",
    "- Misc: Overall, I consider your task good but with some issues that need to be fixed before approving the task itself.\n",
    "\n",
    "Another thing to consider is that there are many vague concepts throughout the prompt. You want the model to create an email with a QR code but did not tell the Model any details on how to do this. This is a good place to refine your response. Be more specific and expressive. Give details and explain the model of how to do this. It does not have to be too extensive, but it needs to be done.\n",
    "\n",
    "# Justification Issues\n",
    "\n",
    "In order for your justifications to be good, they must have the following syntax:\n",
    "    [1] Comparison between responses + [2] Along which dimension? + [3] Epic quality justification + [4] Evidence for taking the aforementioned decision.\n",
    "Also, you must explain and demonstrate HOW did you test the code [5], and how (briefly describe the environment). Extra points if you can define how to fix issues (if any).\n",
    "If you follow these instructions, you will almost always be rated 4 or 5.\n",
    "\n",
    "In your specific situation, you did very well with [1], more or less with [3], and did not complete [2, 4, 5].\n",
    "You claim that response 2 is more organized than response 1 because it \"uses a built-in library for image which is `PIL`\". This library IS NOT built-in in Python. In fact, at the beginning of the code, it actually installs it using `pip install pillow`, which is evidence enough to prove it's not built-in. This makes me wonder whether you got confused with the terminology or if you really did not know that. If the latter is true, then one of the important things to consider is to create code that later you would be able to fully understand.\n",
    "You must always test your code, it's a crucial step. If you don't, which appears to be the case, then you claim this work \"as is\" without further evidence of that. That's why it's important.\n",
    "Also, something very important that you did not mention: according to the prompt, a zip file was expected as an input, which would need to be opened and then processed. Neither response deals with this situation, they begin from a CSV file. Once again, the idea that you did not mention this makes me wonder how deeply you analyze both responses.\n",
    "\n",
    "\n",
    "With all this being said, please redo the task and follow the instructions to improve the attempt's quality to the project's required level.\n",
    "I will share with you some documentation that may come in handy to better assess this.\n",
    "\n",
    "Thanks a lot for reading till the end! I wish you the best on this, I know you have what is needed for the project!\n",
    "\n",
    "* Documentation:\n",
    "\n",
    "* Flamingo Crash Course:\n",
    "https://docs.google.com/document/d/1djY7NcldjU21bRYCX6hoFHrrQSPQ5C_o0d_XDJnNUmY/edit#heading=h.3ibr2go7c4fs\n",
    "\n",
    "* Dimension Priorities:\n",
    "https://docs.google.com/document/d/1XtlJbL3WuvMBqKvqSmRHVCujy_fvDrluiKOzR5I0qO4/edit"
   ]
  }
 ],
 "metadata": {
  "kernelspec": {
   "display_name": "Python 3",
   "language": "python",
   "name": "python3"
  },
  "language_info": {
   "codemirror_mode": {
    "name": "ipython",
    "version": 3
   },
   "file_extension": ".py",
   "mimetype": "text/x-python",
   "name": "python",
   "nbconvert_exporter": "python",
   "pygments_lexer": "ipython3",
   "version": "3.12.3"
  }
 },
 "nbformat": 4,
 "nbformat_minor": 2
}
