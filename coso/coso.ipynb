{
 "cells": [
  {
   "cell_type": "code",
   "execution_count": 1,
   "metadata": {},
   "outputs": [
    {
     "name": "stdout",
     "output_type": "stream",
     "text": [
      "[1.5 2.3 4.2]\n"
     ]
    }
   ],
   "source": [
    "import numpy as np\n",
    "\n",
    "# Array with strings representing numbers\n",
    "arr_str = np.array([\"1.5\", \"2.3\", \"4.2\"], dtype=np.str_)\n",
    "\n",
    "# Convert to float\n",
    "arr_float = arr_str.astype(float)\n",
    "\n",
    "print(arr_float)  # Output: [1.5 2.3 4.2]"
   ]
  },
  {
   "cell_type": "code",
   "execution_count": 2,
   "metadata": {},
   "outputs": [
    {
     "name": "stdout",
     "output_type": "stream",
     "text": [
      "5 days, 18:45:00\n"
     ]
    }
   ],
   "source": [
    "import datetime\n",
    "\n",
    "# Create two datetime objects\n",
    "dt1 = datetime.datetime(2023, 12, 31, 10, 30)\n",
    "dt2 = datetime.datetime(2023, 12, 25, 15, 45)\n",
    "\n",
    "# Subtract the two datetime objects\n",
    "time_difference = dt1 - dt2\n",
    "\n",
    "print(time_difference)  # Output: 5 days, 18:45:00"
   ]
  },
  {
   "cell_type": "code",
   "execution_count": 3,
   "metadata": {},
   "outputs": [
    {
     "name": "stdout",
     "output_type": "stream",
     "text": [
      "5\n",
      "67500\n",
      "0\n"
     ]
    }
   ],
   "source": [
    "print(time_difference.days)  # Output: 5 (days)\n",
    "print(time_difference.seconds)  # Output: 67500 (seconds)\n",
    "print(time_difference.microseconds)  # Output: 0 (microseconds)"
   ]
  },
  {
   "cell_type": "code",
   "execution_count": 6,
   "metadata": {},
   "outputs": [
    {
     "name": "stdout",
     "output_type": "stream",
     "text": [
      "138.75\n",
      "8325.0\n"
     ]
    }
   ],
   "source": [
    "# Convert to hours\n",
    "hours = time_difference.total_seconds() / 3600\n",
    "print(hours)  # Output: 133.75\n",
    "\n",
    "# Convert to minutes\n",
    "minutes = time_difference.total_seconds() / 60\n",
    "print(minutes)  # Output: 8025.0"
   ]
  },
  {
   "cell_type": "code",
   "execution_count": 5,
   "metadata": {},
   "outputs": [
    {
     "name": "stdout",
     "output_type": "stream",
     "text": [
      "2023-12-25 15:45:00\n"
     ]
    }
   ],
   "source": [
    "new_datetime = dt1 - time_difference\n",
    "print(new_datetime)  # Output: 2023-12-25 15:45:00"
   ]
  },
  {
   "cell_type": "markdown",
   "metadata": {},
   "source": [
    "Respu B"
   ]
  },
  {
   "cell_type": "code",
   "execution_count": 8,
   "metadata": {},
   "outputs": [
    {
     "name": "stdout",
     "output_type": "stream",
     "text": [
      "2023-12-31 10:30:00\n",
      "2024-01-01 12:00:00\n",
      "1 day, 1:30:00\n",
      "1\n",
      "5400\n",
      "91800.0\n"
     ]
    }
   ],
   "source": [
    "from datetime import datetime, timedelta\n",
    "\n",
    "datetime1 = datetime.datetime(2023, 12, 31, 10, 30, 0)  # December 31, 2023 at 10:30 AM\n",
    "datetime2 = datetime.datetime(2024, 1, 1, 12, 0, 0)  # January 1, 2024 at 12:00 PM\n",
    "\n",
    "print(datetime1)  # Output: 2023-12-31 10:30:00\n",
    "print(datetime2)  # Output: 2024-01-01 12:00:00\n",
    "\n",
    "time_difference = datetime2 - datetime1\n",
    "\n",
    "print(time_difference)  # Output: 1 day, 1:30:00\n",
    "print(time_difference.days)  # Output: 1 (number of days)\n",
    "print(time_difference.seconds)  # Output: 5400 (number of seconds)\n",
    "print(time_difference.total_seconds())  # Output: 93600.0 (total seconds)"
   ]
  },
  {
   "cell_type": "code",
   "execution_count": 10,
   "metadata": {},
   "outputs": [
    {
     "name": "stdout",
     "output_type": "stream",
     "text": [
      "5 days, 18:45:00\n",
      "5\n",
      "67500\n",
      "0\n",
      "138.75\n",
      "8325.0\n"
     ]
    }
   ],
   "source": [
    "import datetime\n",
    "\n",
    "# Create two datetime objects\n",
    "dt1 = datetime.datetime(2023, 12, 31, 10, 30)\n",
    "dt2 = datetime.datetime(2023, 12, 25, 15, 45)\n",
    "\n",
    "# Subtract the two datetime objects\n",
    "time_difference = dt1 - dt2\n",
    "\n",
    "print(time_difference)  # Output: 5 days, 18:45:00\n",
    "\n",
    "print(time_difference.days)  # Output: 5 (days)\n",
    "print(time_difference.seconds)  # Output: 67500 (seconds)\n",
    "print(time_difference.microseconds)  # Output: 0 (microseconds)\n",
    "\n",
    "# Convert to hours\n",
    "hours = time_difference.total_seconds() / 3600\n",
    "print(hours)  # Output: 133.75\n",
    "\n",
    "# Convert to minutes\n",
    "minutes = time_difference.total_seconds() / 60\n",
    "print(minutes)  # Output: 8025.0"
   ]
  },
  {
   "cell_type": "code",
   "execution_count": 2,
   "metadata": {},
   "outputs": [],
   "source": [
    "import numpy as np"
   ]
  },
  {
   "cell_type": "code",
   "execution_count": 21,
   "metadata": {},
   "outputs": [
    {
     "data": {
      "text/plain": [
       "np.int64(1)"
      ]
     },
     "execution_count": 21,
     "metadata": {},
     "output_type": "execute_result"
    }
   ],
   "source": [
    "np.arange(10)[1]"
   ]
  },
  {
   "cell_type": "code",
   "execution_count": 22,
   "metadata": {},
   "outputs": [
    {
     "data": {
      "text/plain": [
       "1"
      ]
     },
     "execution_count": 22,
     "metadata": {},
     "output_type": "execute_result"
    }
   ],
   "source": [
    "range(10)[1]"
   ]
  },
  {
   "cell_type": "code",
   "execution_count": 9,
   "metadata": {},
   "outputs": [
    {
     "name": "stdout",
     "output_type": "stream",
     "text": [
      "abcdefghijklmnopqrstuvwxyz\n"
     ]
    }
   ],
   "source": [
    "alphabet = list(map(chr, range(97, 123)))\n",
    "print(\"\".join(alphabet))  # Output: abcdefghijklmnopqrstuvwxyz"
   ]
  }
 ],
 "metadata": {
  "kernelspec": {
   "display_name": "Python 3",
   "language": "python",
   "name": "python3"
  },
  "language_info": {
   "codemirror_mode": {
    "name": "ipython",
    "version": 3
   },
   "file_extension": ".py",
   "mimetype": "text/x-python",
   "name": "python",
   "nbconvert_exporter": "python",
   "pygments_lexer": "ipython3",
   "version": "3.11.9"
  }
 },
 "nbformat": 4,
 "nbformat_minor": 2
}
