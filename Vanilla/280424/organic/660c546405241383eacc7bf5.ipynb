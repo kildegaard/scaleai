{
 "cells": [
  {
   "cell_type": "markdown",
   "metadata": {},
   "source": [
    "## Do a left join on the table from 'AMSA 1-S PROJ..csv' with itself on the client as the key and output the new table."
   ]
  },
  {
   "cell_type": "markdown",
   "metadata": {},
   "source": [
    "**Coder Instructions:**\n",
    "\n",
    "1.  Read the csv file \"messy\\_AMSA 1-S PROJ..csv\".&#x20;\n",
    "2.  Show the first 5 rows by `head()` method\n",
    "3.  Show the column names and types by `info()` method"
   ]
  },
  {
   "cell_type": "code",
   "execution_count": null,
   "metadata": {},
   "outputs": [],
   "source": [
    "import pandas as pd\n",
    "\n",
    "pd.set_option(\"display.max_rows\", None)\n",
    "pd.set_option(\"display.max_columns\", None)\n",
    "\n",
    "# Read the CSV file into a DataFrame.\n",
    "df = pd.read_csv(\"messy_AMSA 1-S PROJ..csv\")\n",
    "\n",
    "# Display the first 5 rows.\n",
    "print(df.head().to_markdown(index=False, numalign=\"left\", stralign=\"left\"))\n",
    "\n",
    "# Print the column names and their data types.\n",
    "print(df.info())"
   ]
  },
  {
   "cell_type": "markdown",
   "metadata": {},
   "source": [
    "**Output:**\n",
    "\n",
    "The loaded dataset contains a table with a messy layout. I'll first clean up the table headers and present a clean version.\n",
    "\n",
    "**Coder Instructions:**\n",
    "\n",
    "First clean and convert the column names to the correct types for later analysis:\n",
    "\n",
    "1.  The third row contains the actual header names, while the first two rows contain descriptive names. I will read the CSV file again and will skip the first 3 rows.\n",
    "2.  I will remove any leading and trailing space and \" in the names of the columns.\n",
    "\n",
    "Next display the updated dataframe information:\n",
    "\n",
    "1.  Show the first 5 rows by `head()` method\n",
    "2.  Show the column names and types by `info()` method\n",
    "\n"
   ]
  },
  {
   "cell_type": "code",
   "execution_count": null,
   "metadata": {},
   "outputs": [],
   "source": [
    "import pandas as pd\n",
    "\n",
    "# Read the CSV file into a DataFrame, skipping the first 3 rows.\n",
    "df = pd.read_csv(\"messy_AMSA 1-S PROJ..csv\", header=3)\n",
    "\n",
    "# Clean the column names by removing leading/trailing spaces and the '\"' character.\n",
    "df.columns = df.columns.str.strip().str.replace('\"', \"\")\n",
    "\n",
    "\n",
    "# Display the first 5 rows.\n",
    "print(df.head().to_markdown(index=False, numalign=\"left\", stralign=\"left\"))\n",
    "\n",
    "# Print the column names and their data types.\n",
    "print(df.info())"
   ]
  },
  {
   "cell_type": "markdown",
   "metadata": {},
   "source": [
    "**Output:**\n",
    "\n",
    "It seems that the `CLIENT` column contains duplicate values. I'll join the table on itself using the `CLIENT` column as a key and display the resulting table.\n",
    "\n",
    "**Coder Instructions:**\n",
    "\n",
    "1.  Self-join the table on `CLIENT` column.\n",
    "2.  Display the first 5 rows of the resulting table.\n"
   ]
  },
  {
   "cell_type": "code",
   "execution_count": null,
   "metadata": {},
   "outputs": [],
   "source": [
    "df_merged = pd.merge(\n",
    "    df, df, left_on=\"CLIENT\", right_on=\"CLIENT\", suffixes=(\"_left\", \"_right\")\n",
    ")\n",
    "print(df_merged.head(5))"
   ]
  },
  {
   "cell_type": "markdown",
   "metadata": {},
   "source": [
    "**Output:**\n",
    "\n",
    "The resulting table after joining the dataframe to itself on `CLIENT` is shown below.\n",
    "\n",
    "| 2\\_left | CLIENT | TYPE\\_left | SQM\\_left | LEASE TERM\\_left | CONTRACT VALUE\\_left | COMMISION (%)\\_left | COMMISION VALUE\\_left | Unnamed: 8\\_left | JANUARY\\_left | FEBRUARY\\_left | MARCH\\_left | APRIL\\_left | MAY\\_left | JUNE\\_left                    | 2\\_right | TYPE\\_right | SQM\\_right | LEASE TERM\\_right | CONTRACT VALUE\\_right | COMMISION (%)\\_right | COMMISION VALUE\\_right | Unnamed: 8\\_right | JANUARY\\_right | FEBRUARY\\_right | MARCH\\_right | APRIL\\_right | MAY\\_right | JUNE\\_right |\n",
    "| :------ | :----- | :--------- | :-------- | :--------------- | :------------------- | :------------------ | :-------------------- | :--------------- | :------------ | :------------- | :---------- | :---------- | :-------- | :---------------------------- | :------- | :---------- | :--------- | :---------------- | :-------------------- | :------------------- | :--------------------- | :---------------- | :------------- | :-------------- | :----------- | :----------- | :--------- | :---------- |\n",
    "| 3       | \"1\"    | RENEWAL    | \"538\"     | \"24\"             | 130411.20000000001   | 1%                  | 1304.112              | NaN              | \"0\"           | \"1304.112\"     | \"0\"         | \"0\"         | 0         | \"0\"                           | 3        | RENEWAL     | \"538\"      | \"24\"              | 130411.20000000001    | 1%                   | 1304.112               | NaN               | \"0\"            | \"1304.112\"      | \"0\"          | \"0\"          | 0          | \"0\"         |\n",
    "| 4       | \"2\"    | NEW CLIENT | \"555\"     | \"36\"             | 217182.59999999998   | 5%                  | 10859.13              | NaN              | \"10859.13\"    | \"0\"            | \"0\"         | \"0\"         | 0         | \"0\"                           | 4        | NEW CLIENT  | \"555\"      | \"36\"              | 217182.59999999998    | 5%                   | 10859.13               | NaN               | \"10859.13\"     | \"0\"             | \"0\"          | \"0\"          | 0          | \"0\"         |\n",
    "| 5       | \"3}\"   | RENEWAL    | \"538\"     | \"12\"             | 67142                | 1O%                 | 671.4                 | NaN              | \"0\"           | \"\"             | \"\"          | \"671.424\"   | 0         | \"0\"                           | 5        | RENEWAL     | \"538\"      | \"12\"              | 67142                 | 1O%                  | 671.4                  | NaN               | \"0\"            | \"\"              | \"\"           | \"671.424\"    | 0          | \"0\"         |\n",
    "| 6       | \"4h\"   | RENEWAL    | \"485\"     | \"twelve\"         | 61110t               | 1%                  | 611.                  | NaN              | \"\"            | \"0\"            | \"611.1\"     | \"0&\"        | zero      | \"\"                            | 6        | RENEWAL     | \"485\"      | \"twelve\"          | 61110t                | 1%                   | 611.                   | NaN               | \"\"             | \"0\"             | \"611.1\"      | \"0&\"         | zero       | \"\"          |\n",
    "| 7       | \"five\" | RENEWAL    | \"37\"      | \"12x\"            | 5f3100               | NaN                 | 53E1                  | NaN              | \"0B\"          | \"0\"            | \"0\"         | \"zero\"      | 0\"        | \"five hundred and thirty-one\" | 7        | RENEWAL     | \"37\"       | \"12x\"             | 5f3100                | NaN                  | 53E1                   | NaN               |                |                 |              |              |            |             |\n",
    "\n",
    "### This is the final selection.\n",
    "\n",
    "### End the task session after selecting this response. Click the **Submit** button to end.\n"
   ]
  },
  {
   "cell_type": "markdown",
   "metadata": {},
   "source": [
    "***"
   ]
  },
  {
   "cell_type": "markdown",
   "metadata": {},
   "source": [
    "Respuesta: SBQ con 3 *"
   ]
  },
  {
   "cell_type": "markdown",
   "metadata": {},
   "source": [
    "Hello dear Tasker!\n",
    "Here are some corrections for your attempt:\n",
    "\n",
    "Turn #1: it is important to correctly justify your Ratings and be very specific about what is wrong and how you should correct it:\n",
    "- `head()` should be printed using `to_markdown()` method.\n",
    "- The use of \"Please...\" is discouraged.\n",
    "- Methods should be enclosed between backticks.\n",
    "- It is MOST important to correctly justify your decision in the SxS section, even when both answers are very similar. In this case, response 1 has the file name between double quotes (which is correct), as response 2 encloses it between single quotes. This tiny difference makes response 1 just a bit better than response 2.\n",
    "\n",
    "Turn #2: Your Ratings' justifications have many grammar errors. Please, check before sending them! It makes the correction more difficult and your answers more ambiguous. The same goes for the SxS section.\n",
    "\n",
    "Turn #3: Here is the biggest issue that makes this task unapprovable (thus the SBQ). \n",
    "\tYou correctly figured that the dataset had some row issues (being an Excel file, it has some headers and sub-headers that make it a bit difficult for pandas to interpret correctly)\n",
    "\tThe problem arises when you, additionally, tell the model to clean leading and trailing spaces. You should not anticipate future errors. Instead, it would be best to let the model fail and recover from them. This must happen as this is the way the model learns the most.\n",
    "\n",
    "Also, it is important to consider how to print lengthy (more than 10 rows) outputs or tables. Here are the most updated indications:\n",
    "- You should print the first 3 rows whenever there are more than 10 rows present.\n",
    "- Also, you should always declare that it is a truncated view of the table and that the user should let the model know if he/she wants to print them all.\n",
    "\n",
    "One last advice: when dealing in this case with Organic Loss Vanilla attempts, your final response must be PERFECT. That means it must not have any loss buckets. In this case, your table has more than 3 rows (and it should be considering the case), does not have the previously mentioned phrase, and there is missing information in the last row and last 6 columns.\n",
    "\n",
    "Please, consider these corrections and redo the task from Turn #3, separating the `skiprows` turn from the column names error recovery.\n",
    "If in doubt, please consider joining the War Zoom and we will be glad to answer all your questions!\n",
    "\n",
    "Thanks a lot for your time and effort!"
   ]
  }
 ],
 "metadata": {
  "kernelspec": {
   "display_name": "Python 3",
   "language": "python",
   "name": "python3"
  },
  "language_info": {
   "codemirror_mode": {
    "name": "ipython",
    "version": 3
   },
   "file_extension": ".py",
   "mimetype": "text/x-python",
   "name": "python",
   "nbconvert_exporter": "python",
   "pygments_lexer": "ipython3",
   "version": "3.12.3"
  }
 },
 "nbformat": 4,
 "nbformat_minor": 2
}
