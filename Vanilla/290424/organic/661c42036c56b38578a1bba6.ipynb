{
 "cells": [
  {
   "cell_type": "markdown",
   "metadata": {},
   "source": [
    "Split the \"Timestamp\" column into new 'Day' 'Month' 'Year' and 'Time' columns from 'QDP Reviews.csv'."
   ]
  },
  {
   "cell_type": "markdown",
   "metadata": {},
   "source": [
    "**Coder Instructions:**\n",
    "\n",
    "*   Use pandas to read the CSV file \"QDP Reviews.xlsx - responses.csv\" into a dataframe.\n",
    "*   Show the first 5 rows using `df.head()`.&#x20;\n",
    "*   Also, print the column names and their data types using `df.info()`."
   ]
  },
  {
   "cell_type": "code",
   "execution_count": null,
   "metadata": {},
   "outputs": [],
   "source": [
    "**Code:**\n",
    "\n",
    "```\n",
    "import pandas as pd\n",
    "\n",
    "pd.set_option('display.max_rows', None)\n",
    "pd.set_option('display.max_columns', None)\n",
    "\n",
    "# Read the CSV file into a DataFrame\n",
    "df = pd.read_csv('QDP Reviews.xlsx - responses.csv')\n",
    "\n",
    "# Display the first 5 rows\n",
    "print(df.head().to_markdown(index=False, numalign='left', stralign=\"left\"))\n",
    "\n",
    "# Print the column names and their data types\n",
    "print(df.info())\n",
    "```"
   ]
  },
  {
   "cell_type": "raw",
   "metadata": {
    "vscode": {
     "languageId": "raw"
    }
   },
   "source": [
    "             Timestamp Sex      Name  Number of Reviews  Review  Food   Service   Atmosphere                                                                                                                                  Review.1  Unnamed: 9  Unnamed: 10  Unnamed: 11  Unnamed: 12  Unnamed: 13  Unnamed: 14  Unnamed: 15\n",
    "0  2020-03-05 18:14:32   F  Person 1                5.0     5.0    NaN       NaN         NaN                                                                                                                                       NaN         NaN          NaN          NaN          NaN          NaN          NaN          NaN\n",
    "1  2020-03-21 14:20:00   M  Person 2                1.0     5.0    NaN       NaN         NaN                                                                                                                                       NaN         NaN          NaN          NaN          NaN          NaN          NaN          NaN\n",
    "2  2020-04-02 15:05:42   F  Person 3                1.0     1.0    NaN       NaN         NaN                                                                                                                                       NaN         NaN          NaN          NaN          NaN          NaN          NaN          NaN\n",
    "3  2020-04-10 17:58:04   M  Person 4               86.0     3.0    NaN       NaN         NaN                                                                                                                                       NaN         NaN          NaN          NaN          NaN          NaN          NaN          NaN\n",
    "4  2020-04-11 13:50:23   F  Person 5               13.0     3.0    4.0       5.0         2.0  Although they have tables for consumption in the premises two parking drawers are occupied by their motorcycles. Attention is excellent!         NaN          NaN          NaN          NaN          NaN          NaN          NaN\n",
    "<class 'pandas.core.frame.DataFrame'>\n",
    "RangeIndex: 106 entries, 0 to 105\n",
    "Data columns (total 16 columns):\n",
    " #   Column             Non-Null Count  Dtype  \n",
    "---  ------             --------------  -----  \n",
    " 0   Timestamp          106 non-null    object \n",
    " 1   Sex                106 non-null    object \n",
    " 2   Name               106 non-null    object \n",
    " 3   Number of Reviews  106 non-null    float64\n",
    " 4   Review             106 non-null    float64\n",
    " 5   Food               58 non-null     float64\n",
    " 6   Service            58 non-null     float64\n",
    " 7   Atmosphere         58 non-null     float64\n",
    " 8   Review.1           66 non-null     object \n",
    " 9   Unnamed: 9         0 non-null      float64\n",
    " 10  Unnamed: 10        0 non-null      float64\n",
    " 11  Unnamed: 11        0 non-null      float64\n",
    " 12  Unnamed: 12        0 non-null      float64\n",
    " 13  Unnamed: 13        0 non-null      float64\n",
    " 14  Unnamed: 14        0 non-null      float64\n",
    " 15  Unnamed: 15        0 non-null      float64\n",
    "dtypes: float64(12), object(4)\n",
    "memory usage: 13.4+ KB\n",
    "None"
   ]
  },
  {
   "cell_type": "markdown",
   "metadata": {},
   "source": [
    "**Output:**\n",
    "\n",
    "The `Timestamp` column values have the format 'YYYY-MM-DD HH:MM:SS' as seen in the `head()` but the column type is object as seen in `info()`. Hence further conversion is required.\n",
    "\n",
    "**Coder Instructions:**\n",
    "\n",
    "First clean and convert the non-date formatted column to correct type for splitting:\n",
    "1. Because `Timestamp` is not in datetime format (as seen in the previous `df.info()` output), convert Timestamp to datetime using `to_datetime`.\n",
    "\n",
    "Then split the column:\n",
    "1. Split the `Timestamp` column into `Year`, `Month`, `Day`, and `Time` columns.\n",
    "2. Print all rows of the DataFrame if the row count is 10 or fewer; otherwise, print only the first three rows.\n"
   ]
  },
  {
   "cell_type": "code",
   "execution_count": null,
   "metadata": {},
   "outputs": [],
   "source": [
    "# Convert column to datetime\n",
    "df[\"Timestamp\"] = pd.to_datetime(df[\"Timestamp\"])\n",
    "\n",
    "# Split `Timestamp` column to year, months, day, and time\n",
    "df[\"Year\"] = df[\"Timestamp\"].dt.year\n",
    "df[\"Month\"] = df[\"Timestamp\"].dt.month\n",
    "df[\"Day\"] = df[\"Timestamp\"].dt.day\n",
    "df[\"Time\"] = df[\"Timestamp\"].dt.time\n",
    "\n",
    "# Display all rows if there are 10 or fewer rows\n",
    "if len(df) <= 10:\n",
    "    print(df)\n",
    "else:\n",
    "    # Display only the first 3 rows\n",
    "    print(df.head(3))"
   ]
  },
  {
   "cell_type": "raw",
   "metadata": {
    "vscode": {
     "languageId": "raw"
    }
   },
   "source": [
    "            Timestamp Sex      Name  Number of Reviews  Review  Food   Service   Atmosphere Review.1  Unnamed: 9  Unnamed: 10  Unnamed: 11  Unnamed: 12  Unnamed: 13  Unnamed: 14  Unnamed: 15  Year  Month  Day      Time\n",
    "0 2020-03-05 18:14:32   F  Person 1                5.0     5.0    NaN       NaN         NaN      NaN         NaN          NaN          NaN          NaN          NaN          NaN          NaN  2020      3    5  18:14:32\n",
    "1 2020-03-21 14:20:00   M  Person 2                1.0     5.0    NaN       NaN         NaN      NaN         NaN          NaN          NaN          NaN          NaN          NaN          NaN  2020      3   21  14:20:00\n",
    "2 2020-04-02 15:05:42   F  Person 3                1.0     1.0    NaN       NaN         NaN      NaN         NaN          NaN          NaN          NaN          NaN          NaN          NaN  2020      4    2  15:05:42"
   ]
  },
  {
   "cell_type": "markdown",
   "metadata": {},
   "source": [
    "**Output:**\n",
    "\n",
    "The 'Timestamp' column is split into 'Day' 'Month' 'Year' and 'Time' columns. Here are the first 3 rows:\n",
    "\n",
    "| Timestamp           | Sex | Name     | Number of Reviews | Review | Food | Service | Atmosphere | Review\\.1 | Unnamed: 9 | Unnamed: 10 | Unnamed: 11 | Unnamed: 12 | Unnamed: 13 | Unnamed: 14 | Unnamed: 15 | Year | Month | Day | Time     |\n",
    "| :------------------ | :-- | :------- | :---------------- | :----- | :--- | :------ | :--------- | :-------- | :--------- | :---------- | :---------- | :---------- | :---------- | :---------- | :---------- | :--- | :---- | :-- | :------- |\n",
    "| 2020-03-05 18:14:32 | F   | Person 1 | 5                 | 5      | nan  | nan     | nan        | nan       | nan        | nan         | nan         | nan         | nan         | nan         | nan         | 2020 | 3     | 5   | 18:14:32 |\n",
    "| 2020-03-21 14:20:00 | M   | Person 2 | 1                 | 5      | nan  | nan     | nan        | nan       | nan        | nan         | nan         | nan         | nan         | nan         | nan         | 2020 | 3     | 21  | 14:20:00 |\n",
    "| 2020-04-02 15:05:42 | F   | Person 3 | 1                 | 1      | nan  | nan     | nan        | nan       | nan        | nan         | nan         | nan         | nan         | nan         | nan         | 2020 | 4     | 2   | 15:05:42 |\n",
    "\n",
    "The table is a truncated view for the filtered DataFrame. Please let me know if you’d like me to display the entire DataFrame.\n",
    "\n",
    "\n",
    "### This is the final selection.\n",
    "\n",
    "### End the task session after selecting this response. Click the **Submit** button to end.\n"
   ]
  },
  {
   "cell_type": "markdown",
   "metadata": {},
   "source": []
  }
 ],
 "metadata": {
  "language_info": {
   "name": "python"
  }
 },
 "nbformat": 4,
 "nbformat_minor": 2
}
