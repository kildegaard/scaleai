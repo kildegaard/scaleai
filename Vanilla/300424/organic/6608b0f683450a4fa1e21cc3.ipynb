{
 "cells": [
  {
   "cell_type": "markdown",
   "metadata": {},
   "source": [
    "Calculate the ratio of time spent in 'read' or 'write' operations as opposed to all other operations.  Explain the steps taken to determine that ratio.  "
   ]
  },
  {
   "cell_type": "code",
   "execution_count": null,
   "metadata": {},
   "outputs": [],
   "source": [
    "| Processes_Time   | RunQueue   | Swap-in   | pswitch   | syscall   | read   | write   | fork   | exec   | sem   | msg   | asleep_bufio   | asleep_rawio   | asleep_diocio   |\n",
    "|:-----------------|:-----------|:----------|:----------|:----------|:-------|:--------|:-------|:-------|:------|:------|:---------------|:---------------|:----------------|\n",
    "| 0:01:07          | 2,4        | 0         | 16870     | 215582    | 4729   | 1247    | 6      | 4      | 0     | 0     | 0              | 0              | 0               |\n",
    "| 0:01:37          | 2,37       | 0,03      | 10946     | 118160    | 2098   | 1911    | 1      | 1      | 0     | 0     | 0              | 0              | 0               |\n",
    "| 0:02:07          | 2,3        | 0,07      | 53955     | 160595    | 15263  | 3919    | 6      | 7      | 0     | 0     | 0              | 0              | 1               |\n",
    "| 0:02:37          | 2,4        | 0         | 27292     | 306624    | 8289   | 187     | 1      | 1      | 0     | 0     | 0              | 0              | 0               |\n",
    "| 0:03:07          | 4,1        | 0         | 18449     | 156200    | 4684   | 2280    | 1      | 1      | 0     | 0     | 0              | 0              | 0               |\n",
    "<class 'pandas.core.frame.DataFrame'>\n",
    "RangeIndex: 2880 entries, 0 to 2879\n",
    "Data columns (total 14 columns):\n",
    " #   Column          Non-Null Count  Dtype \n",
    "---  ------          --------------  ----- \n",
    " 0   Processes_Time  2880 non-null   object\n",
    " 1   RunQueue        2880 non-null   object\n",
    " 2   Swap-in         2880 non-null   object\n",
    " 3   pswitch         2880 non-null   int64 \n",
    " 4   syscall         2880 non-null   int64 \n",
    " 5   read            2880 non-null   int64 \n",
    " 6   write           2880 non-null   int64 \n",
    " 7   fork            2880 non-null   int64 \n",
    " 8   exec            2880 non-null   int64 \n",
    " 9   sem             2880 non-null   int64 \n",
    " 10  msg             2880 non-null   int64 \n",
    " 11  asleep_bufio    2880 non-null   int64 \n",
    " 12  asleep_rawio    2880 non-null   int64 \n",
    " 13  asleep_diocio   2880 non-null   int64 \n",
    "dtypes: int64(11), object(3)\n",
    "memory usage: 315.1+ KB\n",
    "None"
   ]
  },
  {
   "cell_type": "code",
   "execution_count": null,
   "metadata": {},
   "outputs": [],
   "source": []
  }
 ],
 "metadata": {
  "language_info": {
   "name": "python"
  }
 },
 "nbformat": 4,
 "nbformat_minor": 2
}
