{
 "cells": [
  {
   "cell_type": "markdown",
   "metadata": {},
   "source": [
    "Create a new column named \"location_locality\" by combining the values from the \"location\" and \"locality\" columns with a hyphen (-), and then append this new column to the dataset. Finally, output the entire table including the new column."
   ]
  },
  {
   "cell_type": "code",
   "execution_count": null,
   "metadata": {},
   "outputs": [],
   "source": [
    "| id   | client      | aynom     | fee   | equipment   | model       | identifier   | port1       | port1 serie   | port1 model   | port2       | port2 serie   | port2 model   | portal   | locality   | charge date   | discharge date   | status   | location    |\n",
    "|:-----|:------------|:----------|:------|:------------|:------------|:-------------|:------------|:--------------|:--------------|:------------|:--------------|:--------------|:---------|:-----------|:--------------|:-----------------|:---------|:------------|\n",
    "| 1    | 7.2227e+08  | FER BORIA | 20    | 5.10282e+08 | 6.12002e+08 | 5.01006e+06  | 6.00123e+08 | 9.07533e+06   | 5.00044e+06   | 6.00123e+08 | 9.07533e+06   | 5.00044e+06   | 8041     | Capital    | 11.11.2013    | 31.12.9999       | ALTA     | 2.03472e+07 |\n",
    "| 2    | 9.09307e+08 | SUP S.A.  | 21    | 5.10351e+08 | 3.24759e+06 | 5.01151e+06  | 6.00331e+08 | 9.16189e+06   | 5.00044e+06   | 6.00331e+08 | 9.16189e+06   | 5.00044e+06   | 8041     | Capital    | 01.06.2010    | 31.12.9999       | ALTA     | 1.08009e+07 |\n",
    "| 3    | 1.99203e+08 | STA FRAIM | 20    | 5.10386e+08 | 2.51006e+08 | 5.01336e+06  | 6.00475e+08 | 9.2631e+06    | 5.00044e+06   | 6.00475e+08 | 9.2631e+06    | 5.00044e+06   | 8041     | Capital    | 20.07.2022    | 31.12.9999       | ALTA     | 2.06376e+07 |\n",
    "| 4    | 4.70307e+08 | CAN S.A.  | 20    | 5.10229e+08 | 6.11e+08    | 5.01022e+06  | nan         | nan           | nan           | nan         | nan           | nan           | 8041     | Capital    | 02.07.2022    | 31.12.9999       | ALTA     | 2.06767e+07 |\n",
    "| 5    | 3.04307e+08 | SUP S.A.  | 20    | 5.10282e+08 | 6.12002e+08 | 5.01006e+06  | 6.00123e+08 | 9.07559e+06   | 5.00044e+06   | 6.00123e+08 | 9.07559e+06   | 5.00044e+06   | 8041     | Capital    | 02.07.2022    | 31.12.9999       | ALTA     | 2.06779e+07 |\n",
    "<class 'pandas.core.frame.DataFrame'>\n",
    "RangeIndex: 7514 entries, 0 to 7513\n",
    "Data columns (total 19 columns):\n",
    " #   Column          Non-Null Count  Dtype  \n",
    "---  ------          --------------  -----  \n",
    " 0   id              7514 non-null   float64\n",
    " 1   client          7514 non-null   object \n",
    " 2   aynom           7514 non-null   object \n",
    " 3   fee             7514 non-null   float64\n",
    " 4   equipment       6701 non-null   float64\n",
    " 5   model           6701 non-null   float64\n",
    " 6   identifier      6701 non-null   float64\n",
    " 7   port1           5685 non-null   float64\n",
    " 8   port1 serie     5685 non-null   float64\n",
    " 9   port1 model     5685 non-null   float64\n",
    " 10  port2           3511 non-null   float64\n",
    " 11  port2 serie     3511 non-null   float64\n",
    " 12  port2 model     3511 non-null   float64\n",
    " 13  portal          7514 non-null   float64\n",
    " 14  locality        7507 non-null   object \n",
    " 15  charge date     7514 non-null   object \n",
    " 16  discharge date  7514 non-null   object \n",
    " 17  status          7514 non-null   object \n",
    " 18  location        7514 non-null   float64\n",
    "dtypes: float64(13), object(6)\n",
    "memory usage: 1.1+ MB\n",
    "None"
   ]
  },
  {
   "cell_type": "code",
   "execution_count": null,
   "metadata": {},
   "outputs": [],
   "source": []
  }
 ],
 "metadata": {
  "language_info": {
   "name": "python"
  }
 },
 "nbformat": 4,
 "nbformat_minor": 2
}
