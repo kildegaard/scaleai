{
 "cells": [
  {
   "cell_type": "markdown",
   "metadata": {},
   "source": [
    "Show me rows in the dataset where the \"State\" of the sales is not \"Cerrada\"."
   ]
  },
  {
   "cell_type": "raw",
   "metadata": {
    "vscode": {
     "languageId": "raw"
    }
   },
   "source": [
    "| Unnamed: 0   | From    | 01/10/2023 00:00    | Unnamed: 2          | Unnamed: 3          | Unnamed: 4    | Unnamed: 5    | Unnamed: 6    | Unnamed: 7    | Unnamed: 8    | Unnamed: 9    | Unnamed: 10       | Unnamed: 11    | Unnamed: 12    | Unnamed: 13    | Unnamed: 14    | Unnamed: 15       | Unnamed: 16    | Unnamed: 17    |\n",
    "|:-------------|:--------|:--------------------|:--------------------|:--------------------|:--------------|:--------------|:--------------|:--------------|:--------------|:--------------|:------------------|:---------------|:---------------|:---------------|:---------------|:------------------|:---------------|:---------------|\n",
    "| 0            | To      | 01/11/2023 00:00    | nan                 | nan                 | nan           | nan           | nan           | nan           | nan           | nan           | nan               | nan            | nan            | nan            | nan            | nan               | nan            | nan            |\n",
    "| 1            | nan     | nan                 | nan                 | nan                 | nan           | nan           | nan           | nan           | nan           | nan           | nan               | nan            | nan            | nan            | nan            | nan               | nan            | nan            |\n",
    "| 2            | Id      | Date                | Creation            | Close               | Cash          | State         | Client        | Table         | Room          | People        | Waiter / Delivery | Payment Method | Total          | Fiscal         | Sale Type      | Comment           | Origin         | Origin Id      |\n",
    "| 3            | 2543    | 31/10/2023          | 31/10/2023 23:17:07 | 31/10/2023 23:43:12 | Principal     | Cerrada       | nan           | 3             | Local         | 9             | nan               | Efectivo       | 9150           | No             | Local          | para local llam 1 | nan            | nan            |\n",
    "| 4            | 2542    | 31/10/2023          | 31/10/2023 22:55:04 | 31/10/2023 23:43:04 | Principal     | Cerrada       | nan           | 2             | Local         | 8             | nan               | Efectivo       | 14550          | No             | Local          | ll 1              | nan            | nan            |\n",
    "<class 'pandas.core.frame.DataFrame'>\n",
    "RangeIndex: 654 entries, 0 to 653\n",
    "Data columns (total 19 columns):\n",
    " #   Column             Non-Null Count  Dtype \n",
    "---  ------             --------------  ----- \n",
    " 0   Unnamed: 0         654 non-null    int64 \n",
    " 1   From               653 non-null    object\n",
    " 2   01/10/2023 00:00   653 non-null    object\n",
    " 3   Unnamed: 2         652 non-null    object\n",
    " 4   Unnamed: 3         651 non-null    object\n",
    " 5   Unnamed: 4         652 non-null    object\n",
    " 6   Unnamed: 5         652 non-null    object\n",
    " 7   Unnamed: 6         65 non-null     object\n",
    " 8   Unnamed: 7         488 non-null    object\n",
    " 9   Unnamed: 8         588 non-null    object\n",
    " 10  Unnamed: 9         469 non-null    object\n",
    " 11  Unnamed: 10        1 non-null      object\n",
    " 12  Unnamed: 11        646 non-null    object\n",
    " 13  Unnamed: 12        651 non-null    object\n",
    " 14  Unnamed: 13        652 non-null    object\n",
    " 15  Unnamed: 14        652 non-null    object\n",
    " 16  Unnamed: 15        589 non-null    object\n",
    " 17  Unnamed: 16        65 non-null     object\n",
    " 18  Unnamed: 17        64 non-null     object\n",
    "dtypes: int64(1), object(18)\n",
    "memory usage: 97.2+ KB\n",
    "None"
   ]
  },
  {
   "cell_type": "raw",
   "metadata": {
    "vscode": {
     "languageId": "raw"
    }
   },
   "source": [
    "   2    Id        Date             Creation                Close       Cash    State Client Table   Room People  Waiter / Delivery Payment Method                        Total Fiscal Sale Type            Comment Origin Origin Id\n",
    "0  3  2543  31/10/2023  31/10/2023 23:17:07  31/10/2023 23:43:12  Principal  Cerrada    NaN     3  Local      9                NaN       Efectivo                         9150     No     Local  para local llam 1    NaN       NaN\n",
    "1  4  2542  31/10/2023  31/10/2023 22:55:04  31/10/2023 23:43:04  Principal  Cerrada    NaN     2  Local      8                NaN       Efectivo                        14550     No     Local               ll 1    NaN       NaN\n",
    "2  5  2541  31/10/2023  31/10/2023 22:31:00  31/10/2023 23:00:45  Principal  Cerrada    NaN     3  Local  seven                NaN       Efectivo                          930     No     Local  para local llam 3    NaN       NaN\n",
    "3  6   254  31/10/2023  31/10/2023 22:25:40    31/10/2023 23:00:  Principal  Cerrada    NaN   NaN  Local      6                NaN       Efectivo  three thousand, six hundred     No     Local  para local llam 2    NaN       NaN\n",
    "4  7  2539  31/10/2023  31/10/2023 22:21:46  31/10/2023 22:38:40  Principal  Cerrada    NaN     4  Local     5k                NaN       Efectivo                         7150     No     Local  para local llam 1    NaN       NaN"
   ]
  }
 ],
 "metadata": {
  "language_info": {
   "name": "python"
  }
 },
 "nbformat": 4,
 "nbformat_minor": 2
}
